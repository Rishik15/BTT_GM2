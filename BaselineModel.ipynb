{
 "cells": [
  {
   "cell_type": "markdown",
   "id": "3a087acb",
   "metadata": {},
   "source": [
    "### Importing required libraries"
   ]
  },
  {
   "cell_type": "code",
   "execution_count": 7,
   "id": "931ba819",
   "metadata": {},
   "outputs": [],
   "source": [
    "import pandas as pd\n",
    "import numpy as np\n",
    "from sklearn.model_selection import train_test_split\n",
    "from sklearn.linear_model import LinearRegression\n",
    "from sklearn.metrics import r2_score, mean_absolute_error, mean_squared_error"
   ]
  },
  {
   "cell_type": "markdown",
   "id": "8ac9104b",
   "metadata": {},
   "source": [
    "### Reading in the dataset"
   ]
  },
  {
   "cell_type": "code",
   "execution_count": 5,
   "id": "6c35a88b",
   "metadata": {},
   "outputs": [
    {
     "data": {
      "text/html": [
       "<div>\n",
       "<style scoped>\n",
       "    .dataframe tbody tr th:only-of-type {\n",
       "        vertical-align: middle;\n",
       "    }\n",
       "\n",
       "    .dataframe tbody tr th {\n",
       "        vertical-align: top;\n",
       "    }\n",
       "\n",
       "    .dataframe thead th {\n",
       "        text-align: right;\n",
       "    }\n",
       "</style>\n",
       "<table border=\"1\" class=\"dataframe\">\n",
       "  <thead>\n",
       "    <tr style=\"text-align: right;\">\n",
       "      <th></th>\n",
       "      <th>index</th>\n",
       "      <th>country</th>\n",
       "      <th>surveyelapse</th>\n",
       "      <th>GS1</th>\n",
       "      <th>GS2</th>\n",
       "      <th>GS3</th>\n",
       "      <th>GS4</th>\n",
       "      <th>GS5</th>\n",
       "      <th>GS6</th>\n",
       "      <th>GS7</th>\n",
       "      <th>...</th>\n",
       "      <th>operatingsystem</th>\n",
       "      <th>browser</th>\n",
       "      <th>introelapse</th>\n",
       "      <th>testelapse</th>\n",
       "      <th>Extraversion</th>\n",
       "      <th>Neuroticism</th>\n",
       "      <th>Agreeableness</th>\n",
       "      <th>Conscientiousness</th>\n",
       "      <th>Openness</th>\n",
       "      <th>Grit</th>\n",
       "    </tr>\n",
       "  </thead>\n",
       "  <tbody>\n",
       "    <tr>\n",
       "      <th>0</th>\n",
       "      <td>4</td>\n",
       "      <td>JP</td>\n",
       "      <td>340</td>\n",
       "      <td>5</td>\n",
       "      <td>2</td>\n",
       "      <td>3</td>\n",
       "      <td>3</td>\n",
       "      <td>2</td>\n",
       "      <td>4</td>\n",
       "      <td>2</td>\n",
       "      <td>...</td>\n",
       "      <td>Windows</td>\n",
       "      <td>Firefox</td>\n",
       "      <td>3</td>\n",
       "      <td>337</td>\n",
       "      <td>1.2</td>\n",
       "      <td>2.5</td>\n",
       "      <td>3.3</td>\n",
       "      <td>3.8</td>\n",
       "      <td>3.0</td>\n",
       "      <td>3.083333</td>\n",
       "    </tr>\n",
       "    <tr>\n",
       "      <th>1</th>\n",
       "      <td>6</td>\n",
       "      <td>US</td>\n",
       "      <td>126</td>\n",
       "      <td>4</td>\n",
       "      <td>1</td>\n",
       "      <td>3</td>\n",
       "      <td>2</td>\n",
       "      <td>1</td>\n",
       "      <td>5</td>\n",
       "      <td>1</td>\n",
       "      <td>...</td>\n",
       "      <td>Windows</td>\n",
       "      <td>Chrome</td>\n",
       "      <td>36</td>\n",
       "      <td>212</td>\n",
       "      <td>4.0</td>\n",
       "      <td>2.0</td>\n",
       "      <td>3.6</td>\n",
       "      <td>3.4</td>\n",
       "      <td>5.0</td>\n",
       "      <td>2.583333</td>\n",
       "    </tr>\n",
       "    <tr>\n",
       "      <th>2</th>\n",
       "      <td>8</td>\n",
       "      <td>EU</td>\n",
       "      <td>130</td>\n",
       "      <td>5</td>\n",
       "      <td>3</td>\n",
       "      <td>3</td>\n",
       "      <td>5</td>\n",
       "      <td>4</td>\n",
       "      <td>5</td>\n",
       "      <td>5</td>\n",
       "      <td>...</td>\n",
       "      <td>Windows</td>\n",
       "      <td>Microsoft Internet Explorer</td>\n",
       "      <td>14</td>\n",
       "      <td>183</td>\n",
       "      <td>4.4</td>\n",
       "      <td>4.5</td>\n",
       "      <td>4.7</td>\n",
       "      <td>4.0</td>\n",
       "      <td>4.3</td>\n",
       "      <td>4.250000</td>\n",
       "    </tr>\n",
       "    <tr>\n",
       "      <th>3</th>\n",
       "      <td>10</td>\n",
       "      <td>AE</td>\n",
       "      <td>592</td>\n",
       "      <td>5</td>\n",
       "      <td>3</td>\n",
       "      <td>3</td>\n",
       "      <td>2</td>\n",
       "      <td>4</td>\n",
       "      <td>3</td>\n",
       "      <td>3</td>\n",
       "      <td>...</td>\n",
       "      <td>Windows</td>\n",
       "      <td>Chrome</td>\n",
       "      <td>726</td>\n",
       "      <td>311</td>\n",
       "      <td>3.0</td>\n",
       "      <td>4.6</td>\n",
       "      <td>3.6</td>\n",
       "      <td>3.8</td>\n",
       "      <td>3.4</td>\n",
       "      <td>3.166667</td>\n",
       "    </tr>\n",
       "    <tr>\n",
       "      <th>4</th>\n",
       "      <td>11</td>\n",
       "      <td>AU</td>\n",
       "      <td>217</td>\n",
       "      <td>3</td>\n",
       "      <td>1</td>\n",
       "      <td>1</td>\n",
       "      <td>2</td>\n",
       "      <td>1</td>\n",
       "      <td>3</td>\n",
       "      <td>1</td>\n",
       "      <td>...</td>\n",
       "      <td>Windows</td>\n",
       "      <td>Firefox</td>\n",
       "      <td>376</td>\n",
       "      <td>407</td>\n",
       "      <td>2.0</td>\n",
       "      <td>1.1</td>\n",
       "      <td>3.4</td>\n",
       "      <td>3.9</td>\n",
       "      <td>4.4</td>\n",
       "      <td>2.000000</td>\n",
       "    </tr>\n",
       "  </tbody>\n",
       "</table>\n",
       "<p>5 rows × 100 columns</p>\n",
       "</div>"
      ],
      "text/plain": [
       "   index country  surveyelapse  GS1  GS2  GS3  GS4  GS5  GS6  GS7  ...  \\\n",
       "0      4      JP           340    5    2    3    3    2    4    2  ...   \n",
       "1      6      US           126    4    1    3    2    1    5    1  ...   \n",
       "2      8      EU           130    5    3    3    5    4    5    5  ...   \n",
       "3     10      AE           592    5    3    3    2    4    3    3  ...   \n",
       "4     11      AU           217    3    1    1    2    1    3    1  ...   \n",
       "\n",
       "   operatingsystem                      browser  introelapse  testelapse  \\\n",
       "0          Windows                      Firefox            3         337   \n",
       "1          Windows                       Chrome           36         212   \n",
       "2          Windows  Microsoft Internet Explorer           14         183   \n",
       "3          Windows                       Chrome          726         311   \n",
       "4          Windows                      Firefox          376         407   \n",
       "\n",
       "   Extraversion  Neuroticism  Agreeableness  Conscientiousness  Openness  \\\n",
       "0           1.2          2.5            3.3                3.8       3.0   \n",
       "1           4.0          2.0            3.6                3.4       5.0   \n",
       "2           4.4          4.5            4.7                4.0       4.3   \n",
       "3           3.0          4.6            3.6                3.8       3.4   \n",
       "4           2.0          1.1            3.4                3.9       4.4   \n",
       "\n",
       "       Grit  \n",
       "0  3.083333  \n",
       "1  2.583333  \n",
       "2  4.250000  \n",
       "3  3.166667  \n",
       "4  2.000000  \n",
       "\n",
       "[5 rows x 100 columns]"
      ]
     },
     "execution_count": 5,
     "metadata": {},
     "output_type": "execute_result"
    }
   ],
   "source": [
    "df = pd.read_csv('data/cleaned_grit_data.csv')\n",
    "df.head()"
   ]
  },
  {
   "cell_type": "code",
   "execution_count": 6,
   "id": "2c955ccd",
   "metadata": {},
   "outputs": [
    {
     "name": "stdout",
     "output_type": "stream",
     "text": [
      "<class 'pandas.core.frame.DataFrame'>\n",
      "RangeIndex: 2200 entries, 0 to 2199\n",
      "Data columns (total 100 columns):\n",
      " #   Column             Non-Null Count  Dtype  \n",
      "---  ------             --------------  -----  \n",
      " 0   index              2200 non-null   int64  \n",
      " 1   country            2200 non-null   object \n",
      " 2   surveyelapse       2200 non-null   int64  \n",
      " 3   GS1                2200 non-null   int64  \n",
      " 4   GS2                2200 non-null   int64  \n",
      " 5   GS3                2200 non-null   int64  \n",
      " 6   GS4                2200 non-null   int64  \n",
      " 7   GS5                2200 non-null   int64  \n",
      " 8   GS6                2200 non-null   int64  \n",
      " 9   GS7                2200 non-null   int64  \n",
      " 10  GS8                2200 non-null   int64  \n",
      " 11  GS9                2200 non-null   int64  \n",
      " 12  GS10               2200 non-null   int64  \n",
      " 13  GS11               2200 non-null   int64  \n",
      " 14  GS12               2200 non-null   int64  \n",
      " 15  VCL1               2200 non-null   int64  \n",
      " 16  VCL2               2200 non-null   int64  \n",
      " 17  VCL3               2200 non-null   int64  \n",
      " 18  VCL4               2200 non-null   int64  \n",
      " 19  VCL5               2200 non-null   int64  \n",
      " 20  VCL7               2200 non-null   int64  \n",
      " 21  VCL8               2200 non-null   int64  \n",
      " 22  VCL10              2200 non-null   int64  \n",
      " 23  VCL11              2200 non-null   int64  \n",
      " 24  VCL13              2200 non-null   int64  \n",
      " 25  VCL14              2200 non-null   int64  \n",
      " 26  VCL15              2200 non-null   int64  \n",
      " 27  VCL16              2200 non-null   int64  \n",
      " 28  education          2181 non-null   object \n",
      " 29  urban              2175 non-null   object \n",
      " 30  gender             2197 non-null   object \n",
      " 31  engnat             2189 non-null   object \n",
      " 32  age                2200 non-null   int64  \n",
      " 33  hand               2193 non-null   object \n",
      " 34  religion           2172 non-null   object \n",
      " 35  orientation        2145 non-null   object \n",
      " 36  race               2183 non-null   object \n",
      " 37  voted              2184 non-null   object \n",
      " 38  married            2192 non-null   object \n",
      " 39  familysize         2200 non-null   int64  \n",
      " 40  E1                 2200 non-null   int64  \n",
      " 41  E2                 2200 non-null   int64  \n",
      " 42  E3                 2200 non-null   int64  \n",
      " 43  E4                 2200 non-null   int64  \n",
      " 44  E5                 2200 non-null   int64  \n",
      " 45  E6                 2200 non-null   int64  \n",
      " 46  E7                 2200 non-null   int64  \n",
      " 47  E8                 2200 non-null   int64  \n",
      " 48  E9                 2200 non-null   int64  \n",
      " 49  E10                2200 non-null   int64  \n",
      " 50  N1                 2200 non-null   int64  \n",
      " 51  N2                 2200 non-null   int64  \n",
      " 52  N3                 2200 non-null   int64  \n",
      " 53  N4                 2200 non-null   int64  \n",
      " 54  N5                 2200 non-null   int64  \n",
      " 55  N6                 2200 non-null   int64  \n",
      " 56  N7                 2200 non-null   int64  \n",
      " 57  N8                 2200 non-null   int64  \n",
      " 58  N9                 2200 non-null   int64  \n",
      " 59  N10                2200 non-null   int64  \n",
      " 60  A1                 2200 non-null   int64  \n",
      " 61  A2                 2200 non-null   int64  \n",
      " 62  A3                 2200 non-null   int64  \n",
      " 63  A4                 2200 non-null   int64  \n",
      " 64  A5                 2200 non-null   int64  \n",
      " 65  A6                 2200 non-null   int64  \n",
      " 66  A7                 2200 non-null   int64  \n",
      " 67  A8                 2200 non-null   int64  \n",
      " 68  A9                 2200 non-null   int64  \n",
      " 69  A10                2200 non-null   int64  \n",
      " 70  C1                 2200 non-null   int64  \n",
      " 71  C2                 2200 non-null   int64  \n",
      " 72  C3                 2200 non-null   int64  \n",
      " 73  C4                 2200 non-null   int64  \n",
      " 74  C5                 2200 non-null   int64  \n",
      " 75  C6                 2200 non-null   int64  \n",
      " 76  C7                 2200 non-null   int64  \n",
      " 77  C8                 2200 non-null   int64  \n",
      " 78  C9                 2200 non-null   int64  \n",
      " 79  C10                2200 non-null   int64  \n",
      " 80  O1                 2200 non-null   int64  \n",
      " 81  O2                 2200 non-null   int64  \n",
      " 82  O3                 2200 non-null   int64  \n",
      " 83  O4                 2200 non-null   int64  \n",
      " 84  O5                 2200 non-null   int64  \n",
      " 85  O6                 2200 non-null   int64  \n",
      " 86  O7                 2200 non-null   int64  \n",
      " 87  O8                 2200 non-null   int64  \n",
      " 88  O9                 2200 non-null   int64  \n",
      " 89  O10                2200 non-null   int64  \n",
      " 90  operatingsystem    2200 non-null   object \n",
      " 91  browser            2200 non-null   object \n",
      " 92  introelapse        2200 non-null   int64  \n",
      " 93  testelapse         2200 non-null   int64  \n",
      " 94  Extraversion       2200 non-null   float64\n",
      " 95  Neuroticism        2200 non-null   float64\n",
      " 96  Agreeableness      2200 non-null   float64\n",
      " 97  Conscientiousness  2200 non-null   float64\n",
      " 98  Openness           2200 non-null   float64\n",
      " 99  Grit               2200 non-null   float64\n",
      "dtypes: float64(6), int64(81), object(13)\n",
      "memory usage: 1.7+ MB\n"
     ]
    }
   ],
   "source": [
    "df.info()"
   ]
  },
  {
   "cell_type": "markdown",
   "id": "e1074ceb",
   "metadata": {},
   "source": [
    "### Splitting the data into Train and Test splits"
   ]
  },
  {
   "cell_type": "code",
   "execution_count": 8,
   "id": "cab17769",
   "metadata": {},
   "outputs": [],
   "source": [
    "X = df[['Openness', 'Conscientiousness', 'Extraversion', 'Agreeableness', 'Neuroticism']]\n",
    "y = df['Grit']"
   ]
  },
  {
   "cell_type": "code",
   "execution_count": 19,
   "id": "7154ea43",
   "metadata": {},
   "outputs": [
    {
     "data": {
      "text/html": [
       "<div>\n",
       "<style scoped>\n",
       "    .dataframe tbody tr th:only-of-type {\n",
       "        vertical-align: middle;\n",
       "    }\n",
       "\n",
       "    .dataframe tbody tr th {\n",
       "        vertical-align: top;\n",
       "    }\n",
       "\n",
       "    .dataframe thead th {\n",
       "        text-align: right;\n",
       "    }\n",
       "</style>\n",
       "<table border=\"1\" class=\"dataframe\">\n",
       "  <thead>\n",
       "    <tr style=\"text-align: right;\">\n",
       "      <th></th>\n",
       "      <th>Openness</th>\n",
       "      <th>Conscientiousness</th>\n",
       "      <th>Extraversion</th>\n",
       "      <th>Agreeableness</th>\n",
       "      <th>Neuroticism</th>\n",
       "    </tr>\n",
       "  </thead>\n",
       "  <tbody>\n",
       "    <tr>\n",
       "      <th>0</th>\n",
       "      <td>3.0</td>\n",
       "      <td>3.8</td>\n",
       "      <td>1.2</td>\n",
       "      <td>3.3</td>\n",
       "      <td>2.5</td>\n",
       "    </tr>\n",
       "    <tr>\n",
       "      <th>1</th>\n",
       "      <td>5.0</td>\n",
       "      <td>3.4</td>\n",
       "      <td>4.0</td>\n",
       "      <td>3.6</td>\n",
       "      <td>2.0</td>\n",
       "    </tr>\n",
       "    <tr>\n",
       "      <th>2</th>\n",
       "      <td>4.3</td>\n",
       "      <td>4.0</td>\n",
       "      <td>4.4</td>\n",
       "      <td>4.7</td>\n",
       "      <td>4.5</td>\n",
       "    </tr>\n",
       "    <tr>\n",
       "      <th>3</th>\n",
       "      <td>3.4</td>\n",
       "      <td>3.8</td>\n",
       "      <td>3.0</td>\n",
       "      <td>3.6</td>\n",
       "      <td>4.6</td>\n",
       "    </tr>\n",
       "    <tr>\n",
       "      <th>4</th>\n",
       "      <td>4.4</td>\n",
       "      <td>3.9</td>\n",
       "      <td>2.0</td>\n",
       "      <td>3.4</td>\n",
       "      <td>1.1</td>\n",
       "    </tr>\n",
       "  </tbody>\n",
       "</table>\n",
       "</div>"
      ],
      "text/plain": [
       "   Openness  Conscientiousness  Extraversion  Agreeableness  Neuroticism\n",
       "0       3.0                3.8           1.2            3.3          2.5\n",
       "1       5.0                3.4           4.0            3.6          2.0\n",
       "2       4.3                4.0           4.4            4.7          4.5\n",
       "3       3.4                3.8           3.0            3.6          4.6\n",
       "4       4.4                3.9           2.0            3.4          1.1"
      ]
     },
     "execution_count": 19,
     "metadata": {},
     "output_type": "execute_result"
    }
   ],
   "source": [
    "X.head()"
   ]
  },
  {
   "cell_type": "code",
   "execution_count": 20,
   "id": "a84efbf6",
   "metadata": {},
   "outputs": [
    {
     "data": {
      "text/plain": [
       "0    3.083333\n",
       "1    2.583333\n",
       "2    4.250000\n",
       "3    3.166667\n",
       "4    2.000000\n",
       "Name: Grit, dtype: float64"
      ]
     },
     "execution_count": 20,
     "metadata": {},
     "output_type": "execute_result"
    }
   ],
   "source": [
    "y.head()"
   ]
  },
  {
   "cell_type": "code",
   "execution_count": 17,
   "id": "099d74cf",
   "metadata": {},
   "outputs": [
    {
     "name": "stdout",
     "output_type": "stream",
     "text": [
      "X shape:  (2200, 5)\n",
      "y shaep:  (2200,)\n"
     ]
    }
   ],
   "source": [
    "print(\"X shape: \", X.shape)\n",
    "print(\"y shaep: \", y.shape)"
   ]
  },
  {
   "cell_type": "code",
   "execution_count": 11,
   "id": "c60871a2",
   "metadata": {},
   "outputs": [],
   "source": [
    "X_train, X_test, y_train, y_test = train_test_split(X, y, test_size=0.2, random_state=42)"
   ]
  },
  {
   "cell_type": "code",
   "execution_count": 18,
   "id": "0e20a8f6",
   "metadata": {},
   "outputs": [
    {
     "name": "stdout",
     "output_type": "stream",
     "text": [
      "X_train shape:  (1760, 5)\n",
      "y_train shape:  (1760,)\n",
      "X_test shape:  (440, 5)\n",
      "y_test shape:  (440,)\n"
     ]
    }
   ],
   "source": [
    "print(\"X_train shape: \", X_train.shape)\n",
    "print(\"y_train shape: \", y_train.shape)\n",
    "print(\"X_test shape: \", X_test.shape)\n",
    "print(\"y_test shape: \", y_test.shape)\n"
   ]
  },
  {
   "cell_type": "markdown",
   "id": "6b9922d1",
   "metadata": {},
   "source": [
    "We are going to test the data on baseline models. The models we will be using are:\n",
    "\n",
    "1. Mean model\n",
    "2. Median model\n",
    "3. Simple Linear Regresssion\n",
    "\n",
    "The metrics we will be using are R2, MAE, MSE."
   ]
  },
  {
   "cell_type": "code",
   "execution_count": 9,
   "id": "fa690a9d",
   "metadata": {},
   "outputs": [],
   "source": [
    "def evaluate_model(true, pred, name):\n",
    "    print(f\"{name} Model Results\")\n",
    "    print(f\"R²  : {r2_score(true, pred):.4f}\")\n",
    "    print(f\"MAE : {mean_absolute_error(true, pred):.4f}\")\n",
    "    print(f\"MSE : {mean_squared_error(true, pred):.4f}\")"
   ]
  },
  {
   "cell_type": "markdown",
   "id": "a4f4c81b",
   "metadata": {},
   "source": [
    "### Mean model"
   ]
  },
  {
   "cell_type": "code",
   "execution_count": 12,
   "id": "2975b9e2",
   "metadata": {},
   "outputs": [
    {
     "name": "stdout",
     "output_type": "stream",
     "text": [
      "Mean Baseline Model Results\n",
      "R²  : -0.0003\n",
      "MAE : 0.5718\n",
      "MSE : 0.4743\n"
     ]
    }
   ],
   "source": [
    "mean_pred = np.full(shape=y_test.shape, fill_value=y_train.mean())\n",
    "\n",
    "evaluate_model(y_test, mean_pred, \"Mean Baseline\")"
   ]
  },
  {
   "cell_type": "markdown",
   "id": "74992c9a",
   "metadata": {},
   "source": [
    "### Median model"
   ]
  },
  {
   "cell_type": "code",
   "execution_count": 13,
   "id": "5d824eae",
   "metadata": {},
   "outputs": [
    {
     "name": "stdout",
     "output_type": "stream",
     "text": [
      "Median Baseline Model Results\n",
      "R²  : -0.0060\n",
      "MAE : 0.5718\n",
      "MSE : 0.4770\n"
     ]
    }
   ],
   "source": [
    "median_pred = np.full(shape=y_test.shape, fill_value=y_train.median())\n",
    "\n",
    "evaluate_model(y_test, median_pred, \"Median Baseline\")"
   ]
  },
  {
   "cell_type": "markdown",
   "id": "5d90a69e",
   "metadata": {},
   "source": [
    "### Linear Regression"
   ]
  },
  {
   "cell_type": "code",
   "execution_count": 14,
   "id": "b8ad6f1d",
   "metadata": {},
   "outputs": [],
   "source": [
    "lr = LinearRegression()\n",
    "lr.fit(X_train, y_train)\n",
    "lr_pred = lr.predict(X_test)"
   ]
  },
  {
   "cell_type": "code",
   "execution_count": 15,
   "id": "698a5756",
   "metadata": {},
   "outputs": [
    {
     "name": "stdout",
     "output_type": "stream",
     "text": [
      "Linear Regression Model Results\n",
      "R²  : 0.4855\n",
      "MAE : 0.3951\n",
      "MSE : 0.2440\n"
     ]
    }
   ],
   "source": [
    "evaluate_model(y_test, lr_pred, \"Linear Regression\")"
   ]
  },
  {
   "cell_type": "markdown",
   "id": "50187a1f",
   "metadata": {},
   "source": [
    "The baseline modeling results provide an initial understanding of how well grit can be predicted using simple statistical approaches. Both the mean and median models performed poorly, with negative R2 values and identical error scores, indicating that these models are unable to capture any meaningful variation in grit scores across individuals. In contrast, the linear regression model, which used the Big Five personality traits as predictors, showed a substantial improvement, achieving an R2 of approximately 0.49 and significantly lower MAE and MSE values. This suggests that nearly half of the variability in grit can be explained by personality traits alone, with traits such as conscientiousness likely playing a strong role, which is observed from our EDA. Overall, these results confirm that while trivial models offer no predictive value, linear regression provides a meaningful baseline and justifies moving forward with more advanced modeling techniques to further improve prediction and understand underlying relationships."
   ]
  },
  {
   "cell_type": "markdown",
   "id": "7418c2fa",
   "metadata": {},
   "source": [
    "### Using only 'Conscientiousness' in the linear model to see its impact"
   ]
  },
  {
   "cell_type": "code",
   "execution_count": 21,
   "id": "7aa2ceb6",
   "metadata": {},
   "outputs": [],
   "source": [
    "X = df[[ 'Conscientiousness']]\n",
    "y = df['Grit']"
   ]
  },
  {
   "cell_type": "code",
   "execution_count": 22,
   "id": "06cc322a",
   "metadata": {},
   "outputs": [],
   "source": [
    "X_train, X_test, y_train, y_test = train_test_split(X, y, test_size=0.2, random_state=42)"
   ]
  },
  {
   "cell_type": "code",
   "execution_count": 23,
   "id": "5e811890",
   "metadata": {},
   "outputs": [],
   "source": [
    "lr = LinearRegression()\n",
    "lr.fit(X_train, y_train)\n",
    "lr_pred = lr.predict(X_test)"
   ]
  },
  {
   "cell_type": "code",
   "execution_count": 24,
   "id": "81b41da1",
   "metadata": {},
   "outputs": [
    {
     "name": "stdout",
     "output_type": "stream",
     "text": [
      "Linear Regression Model Results\n",
      "R²  : 0.4278\n",
      "MAE : 0.4243\n",
      "MSE : 0.2713\n"
     ]
    }
   ],
   "source": [
    "evaluate_model(y_test, lr_pred, \"Linear Regression\")"
   ]
  },
  {
   "cell_type": "markdown",
   "id": "eb18e55c",
   "metadata": {},
   "source": [
    "We can see that the other traits do contribute to the model's performance. We will be considering them all the personality traits in out main model or analyze them more later on."
   ]
  }
 ],
 "metadata": {
  "kernelspec": {
   "display_name": "base",
   "language": "python",
   "name": "python3"
  },
  "language_info": {
   "codemirror_mode": {
    "name": "ipython",
    "version": 3
   },
   "file_extension": ".py",
   "mimetype": "text/x-python",
   "name": "python",
   "nbconvert_exporter": "python",
   "pygments_lexer": "ipython3",
   "version": "3.12.7"
  }
 },
 "nbformat": 4,
 "nbformat_minor": 5
}
