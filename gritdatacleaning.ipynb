{
 "cells": [
  {
   "cell_type": "markdown",
   "id": "f307c39d-270f-4705-af22-106e20f1a064",
   "metadata": {},
   "source": [
    "# Importing Required Libraries for Data Preparation "
   ]
  },
  {
   "cell_type": "code",
   "execution_count": 8,
   "id": "80b29498-f469-459e-b1ae-fc9e6a51dfe7",
   "metadata": {},
   "outputs": [],
   "source": [
    "import pandas as pd\n",
    "import numpy as np"
   ]
  },
  {
   "cell_type": "markdown",
   "id": "dbd57847-172c-4c18-b143-ba48d946b7d9",
   "metadata": {},
   "source": [
    "## Loading dataset and Examining Structure"
   ]
  },
  {
   "cell_type": "code",
   "execution_count": 15,
   "id": "2522be7d-8195-48f5-abcf-1d8f1f58e86c",
   "metadata": {},
   "outputs": [
    {
     "data": {
      "text/html": [
       "<div>\n",
       "<style scoped>\n",
       "    .dataframe tbody tr th:only-of-type {\n",
       "        vertical-align: middle;\n",
       "    }\n",
       "\n",
       "    .dataframe tbody tr th {\n",
       "        vertical-align: top;\n",
       "    }\n",
       "\n",
       "    .dataframe thead th {\n",
       "        text-align: right;\n",
       "    }\n",
       "</style>\n",
       "<table border=\"1\" class=\"dataframe\">\n",
       "  <thead>\n",
       "    <tr style=\"text-align: right;\">\n",
       "      <th></th>\n",
       "      <th>country</th>\n",
       "      <th>surveyelapse</th>\n",
       "      <th>GS1</th>\n",
       "      <th>GS2</th>\n",
       "      <th>GS3</th>\n",
       "      <th>GS4</th>\n",
       "      <th>GS5</th>\n",
       "      <th>GS6</th>\n",
       "      <th>GS7</th>\n",
       "      <th>GS8</th>\n",
       "      <th>...</th>\n",
       "      <th>O7</th>\n",
       "      <th>O8</th>\n",
       "      <th>O9</th>\n",
       "      <th>O10</th>\n",
       "      <th>operatingsystem</th>\n",
       "      <th>browser</th>\n",
       "      <th>screenw</th>\n",
       "      <th>screenh</th>\n",
       "      <th>introelapse</th>\n",
       "      <th>testelapse</th>\n",
       "    </tr>\n",
       "  </thead>\n",
       "  <tbody>\n",
       "    <tr>\n",
       "      <th>0</th>\n",
       "      <td>RO</td>\n",
       "      <td>174</td>\n",
       "      <td>1</td>\n",
       "      <td>1</td>\n",
       "      <td>3</td>\n",
       "      <td>3</td>\n",
       "      <td>3</td>\n",
       "      <td>2</td>\n",
       "      <td>3</td>\n",
       "      <td>1</td>\n",
       "      <td>...</td>\n",
       "      <td>5</td>\n",
       "      <td>4</td>\n",
       "      <td>5</td>\n",
       "      <td>4</td>\n",
       "      <td>Windows</td>\n",
       "      <td>Chrome</td>\n",
       "      <td>1366</td>\n",
       "      <td>768</td>\n",
       "      <td>69590</td>\n",
       "      <td>307</td>\n",
       "    </tr>\n",
       "    <tr>\n",
       "      <th>1</th>\n",
       "      <td>US</td>\n",
       "      <td>120</td>\n",
       "      <td>2</td>\n",
       "      <td>2</td>\n",
       "      <td>3</td>\n",
       "      <td>3</td>\n",
       "      <td>2</td>\n",
       "      <td>1</td>\n",
       "      <td>3</td>\n",
       "      <td>3</td>\n",
       "      <td>...</td>\n",
       "      <td>4</td>\n",
       "      <td>3</td>\n",
       "      <td>4</td>\n",
       "      <td>5</td>\n",
       "      <td>Macintosh</td>\n",
       "      <td>Chrome</td>\n",
       "      <td>1280</td>\n",
       "      <td>800</td>\n",
       "      <td>33657</td>\n",
       "      <td>134</td>\n",
       "    </tr>\n",
       "    <tr>\n",
       "      <th>2</th>\n",
       "      <td>US</td>\n",
       "      <td>99</td>\n",
       "      <td>3</td>\n",
       "      <td>3</td>\n",
       "      <td>3</td>\n",
       "      <td>3</td>\n",
       "      <td>4</td>\n",
       "      <td>3</td>\n",
       "      <td>4</td>\n",
       "      <td>4</td>\n",
       "      <td>...</td>\n",
       "      <td>5</td>\n",
       "      <td>5</td>\n",
       "      <td>4</td>\n",
       "      <td>4</td>\n",
       "      <td>Windows</td>\n",
       "      <td>Firefox</td>\n",
       "      <td>1920</td>\n",
       "      <td>1080</td>\n",
       "      <td>95550</td>\n",
       "      <td>138</td>\n",
       "    </tr>\n",
       "    <tr>\n",
       "      <th>3</th>\n",
       "      <td>KE</td>\n",
       "      <td>5098</td>\n",
       "      <td>1</td>\n",
       "      <td>3</td>\n",
       "      <td>4</td>\n",
       "      <td>2</td>\n",
       "      <td>4</td>\n",
       "      <td>1</td>\n",
       "      <td>5</td>\n",
       "      <td>4</td>\n",
       "      <td>...</td>\n",
       "      <td>4</td>\n",
       "      <td>2</td>\n",
       "      <td>5</td>\n",
       "      <td>4</td>\n",
       "      <td>Windows</td>\n",
       "      <td>Chrome</td>\n",
       "      <td>1600</td>\n",
       "      <td>900</td>\n",
       "      <td>4</td>\n",
       "      <td>4440</td>\n",
       "    </tr>\n",
       "    <tr>\n",
       "      <th>4</th>\n",
       "      <td>JP</td>\n",
       "      <td>340</td>\n",
       "      <td>1</td>\n",
       "      <td>2</td>\n",
       "      <td>3</td>\n",
       "      <td>3</td>\n",
       "      <td>2</td>\n",
       "      <td>2</td>\n",
       "      <td>2</td>\n",
       "      <td>4</td>\n",
       "      <td>...</td>\n",
       "      <td>4</td>\n",
       "      <td>1</td>\n",
       "      <td>3</td>\n",
       "      <td>2</td>\n",
       "      <td>Windows</td>\n",
       "      <td>Firefox</td>\n",
       "      <td>1920</td>\n",
       "      <td>1080</td>\n",
       "      <td>3</td>\n",
       "      <td>337</td>\n",
       "    </tr>\n",
       "  </tbody>\n",
       "</table>\n",
       "<p>5 rows × 98 columns</p>\n",
       "</div>"
      ],
      "text/plain": [
       "  country  surveyelapse  GS1  GS2  GS3  GS4  GS5  GS6  GS7  GS8  ...  O7  O8  \\\n",
       "0      RO           174    1    1    3    3    3    2    3    1  ...   5   4   \n",
       "1      US           120    2    2    3    3    2    1    3    3  ...   4   3   \n",
       "2      US            99    3    3    3    3    4    3    4    4  ...   5   5   \n",
       "3      KE          5098    1    3    4    2    4    1    5    4  ...   4   2   \n",
       "4      JP           340    1    2    3    3    2    2    2    4  ...   4   1   \n",
       "\n",
       "   O9  O10  operatingsystem  browser  screenw  screenh  introelapse  \\\n",
       "0   5    4          Windows   Chrome     1366      768        69590   \n",
       "1   4    5        Macintosh   Chrome     1280      800        33657   \n",
       "2   4    4          Windows  Firefox     1920     1080        95550   \n",
       "3   5    4          Windows   Chrome     1600      900            4   \n",
       "4   3    2          Windows  Firefox     1920     1080            3   \n",
       "\n",
       "   testelapse  \n",
       "0         307  \n",
       "1         134  \n",
       "2         138  \n",
       "3        4440  \n",
       "4         337  \n",
       "\n",
       "[5 rows x 98 columns]"
      ]
     },
     "execution_count": 15,
     "metadata": {},
     "output_type": "execute_result"
    }
   ],
   "source": [
    "df = pd.read_csv('data/gritdata.csv', delimiter = '\\t')\n",
    "df.head()\n",
    "# changed delimiter to tab"
   ]
  },
  {
   "cell_type": "code",
   "execution_count": 18,
   "id": "179381bf-7fac-4a17-aa8b-19a72642fd95",
   "metadata": {},
   "outputs": [
    {
     "data": {
      "text/plain": [
       "(4270, 98)"
      ]
     },
     "execution_count": 18,
     "metadata": {},
     "output_type": "execute_result"
    }
   ],
   "source": [
    "df.shape\n",
    "# (row, col)"
   ]
  },
  {
   "cell_type": "code",
   "execution_count": 10,
   "id": "8d3ea892-ef9d-49eb-bdef-6080aad954d1",
   "metadata": {},
   "outputs": [
    {
     "name": "stdout",
     "output_type": "stream",
     "text": [
      "<class 'pandas.core.frame.DataFrame'>\n",
      "RangeIndex: 4270 entries, 0 to 4269\n",
      "Data columns (total 98 columns):\n",
      " #   Column           Non-Null Count  Dtype \n",
      "---  ------           --------------  ----- \n",
      " 0   country          4226 non-null   object\n",
      " 1   surveyelapse     4270 non-null   int64 \n",
      " 2   GS1              4270 non-null   int64 \n",
      " 3   GS2              4270 non-null   int64 \n",
      " 4   GS3              4270 non-null   int64 \n",
      " 5   GS4              4270 non-null   int64 \n",
      " 6   GS5              4270 non-null   int64 \n",
      " 7   GS6              4270 non-null   int64 \n",
      " 8   GS7              4270 non-null   int64 \n",
      " 9   GS8              4270 non-null   int64 \n",
      " 10  GS9              4270 non-null   int64 \n",
      " 11  GS10             4270 non-null   int64 \n",
      " 12  GS11             4270 non-null   int64 \n",
      " 13  GS12             4270 non-null   int64 \n",
      " 14  VCL1             4270 non-null   int64 \n",
      " 15  VCL2             4270 non-null   int64 \n",
      " 16  VCL3             4270 non-null   int64 \n",
      " 17  VCL4             4270 non-null   int64 \n",
      " 18  VCL5             4270 non-null   int64 \n",
      " 19  VCL6             4270 non-null   int64 \n",
      " 20  VCL7             4270 non-null   int64 \n",
      " 21  VCL8             4270 non-null   int64 \n",
      " 22  VCL9             4270 non-null   int64 \n",
      " 23  VCL10            4270 non-null   int64 \n",
      " 24  VCL11            4270 non-null   int64 \n",
      " 25  VCL12            4270 non-null   int64 \n",
      " 26  VCL13            4270 non-null   int64 \n",
      " 27  VCL14            4270 non-null   int64 \n",
      " 28  VCL15            4270 non-null   int64 \n",
      " 29  VCL16            4270 non-null   int64 \n",
      " 30  education        4270 non-null   int64 \n",
      " 31  urban            4270 non-null   int64 \n",
      " 32  gender           4270 non-null   int64 \n",
      " 33  engnat           4270 non-null   int64 \n",
      " 34  age              4270 non-null   int64 \n",
      " 35  hand             4270 non-null   int64 \n",
      " 36  religion         4270 non-null   int64 \n",
      " 37  orientation      4270 non-null   int64 \n",
      " 38  race             4270 non-null   int64 \n",
      " 39  voted            4270 non-null   int64 \n",
      " 40  married          4270 non-null   int64 \n",
      " 41  familysize       4270 non-null   int64 \n",
      " 42  E1               4270 non-null   int64 \n",
      " 43  E2               4270 non-null   int64 \n",
      " 44  E3               4270 non-null   int64 \n",
      " 45  E4               4270 non-null   int64 \n",
      " 46  E5               4270 non-null   int64 \n",
      " 47  E6               4270 non-null   int64 \n",
      " 48  E7               4270 non-null   int64 \n",
      " 49  E8               4270 non-null   int64 \n",
      " 50  E9               4270 non-null   int64 \n",
      " 51  E10              4270 non-null   int64 \n",
      " 52  N1               4270 non-null   int64 \n",
      " 53  N2               4270 non-null   int64 \n",
      " 54  N3               4270 non-null   int64 \n",
      " 55  N4               4270 non-null   int64 \n",
      " 56  N5               4270 non-null   int64 \n",
      " 57  N6               4270 non-null   int64 \n",
      " 58  N7               4270 non-null   int64 \n",
      " 59  N8               4270 non-null   int64 \n",
      " 60  N9               4270 non-null   int64 \n",
      " 61  N10              4270 non-null   int64 \n",
      " 62  A1               4270 non-null   int64 \n",
      " 63  A2               4270 non-null   int64 \n",
      " 64  A3               4270 non-null   int64 \n",
      " 65  A4               4270 non-null   int64 \n",
      " 66  A5               4270 non-null   int64 \n",
      " 67  A6               4270 non-null   int64 \n",
      " 68  A7               4270 non-null   int64 \n",
      " 69  A8               4270 non-null   int64 \n",
      " 70  A9               4270 non-null   int64 \n",
      " 71  A10              4270 non-null   int64 \n",
      " 72  C1               4270 non-null   int64 \n",
      " 73  C2               4270 non-null   int64 \n",
      " 74  C3               4270 non-null   int64 \n",
      " 75  C4               4270 non-null   int64 \n",
      " 76  C5               4270 non-null   int64 \n",
      " 77  C6               4270 non-null   int64 \n",
      " 78  C7               4270 non-null   int64 \n",
      " 79  C8               4270 non-null   int64 \n",
      " 80  C9               4270 non-null   int64 \n",
      " 81  C10              4270 non-null   int64 \n",
      " 82  O1               4270 non-null   int64 \n",
      " 83  O2               4270 non-null   int64 \n",
      " 84  O3               4270 non-null   int64 \n",
      " 85  O4               4270 non-null   int64 \n",
      " 86  O5               4270 non-null   int64 \n",
      " 87  O6               4270 non-null   int64 \n",
      " 88  O7               4270 non-null   int64 \n",
      " 89  O8               4270 non-null   int64 \n",
      " 90  O9               4270 non-null   int64 \n",
      " 91  O10              4270 non-null   int64 \n",
      " 92  operatingsystem  4270 non-null   object\n",
      " 93  browser          4270 non-null   object\n",
      " 94  screenw          4270 non-null   int64 \n",
      " 95  screenh          4270 non-null   int64 \n",
      " 96  introelapse      4270 non-null   int64 \n",
      " 97  testelapse       4270 non-null   int64 \n",
      "dtypes: int64(95), object(3)\n",
      "memory usage: 3.2+ MB\n"
     ]
    }
   ],
   "source": [
    "df.info()"
   ]
  },
  {
   "cell_type": "code",
   "execution_count": 11,
   "id": "250f4bfb-fc7f-4596-b8d4-a5ffb11de20a",
   "metadata": {},
   "outputs": [
    {
     "data": {
      "text/plain": [
       "country         44\n",
       "surveyelapse     0\n",
       "GS1              0\n",
       "GS2              0\n",
       "GS3              0\n",
       "                ..\n",
       "browser          0\n",
       "screenw          0\n",
       "screenh          0\n",
       "introelapse      0\n",
       "testelapse       0\n",
       "Length: 98, dtype: int64"
      ]
     },
     "execution_count": 11,
     "metadata": {},
     "output_type": "execute_result"
    }
   ],
   "source": [
    "df.isna().sum()"
   ]
  },
  {
   "cell_type": "markdown",
   "id": "2cf96318-8dae-48d1-8322-ece334612cc0",
   "metadata": {},
   "source": [
    "44 rows in the data have null values in the column \"country\". We plan to add another column with boolean (0 and 1) to communicate whether the row's country column has a value."
   ]
  },
  {
   "cell_type": "code",
   "execution_count": 13,
   "id": "05013565-21d9-45ad-9c49-ee4776ac2567",
   "metadata": {},
   "outputs": [
    {
     "data": {
      "text/plain": [
       "np.int64(0)"
      ]
     },
     "execution_count": 13,
     "metadata": {},
     "output_type": "execute_result"
    }
   ],
   "source": [
    "df.duplicated().sum()"
   ]
  },
  {
   "cell_type": "markdown",
   "id": "3398cd1a-476b-431f-9830-2efb8de26abd",
   "metadata": {},
   "source": [
    "There are no duplicates in our data."
   ]
  },
  {
   "cell_type": "code",
   "execution_count": 30,
   "id": "bcf8f892-401b-4cfc-92cc-7ef80f49950a",
   "metadata": {},
   "outputs": [
    {
     "name": "stdout",
     "output_type": "stream",
     "text": [
      "Index(['GS1', 'GS2', 'GS3', 'GS4', 'GS5', 'GS6', 'GS7', 'GS8', 'GS9', 'GS10',\n",
      "       'GS11', 'GS12'],\n",
      "      dtype='object')\n"
     ]
    }
   ],
   "source": [
    "# getting the columns of gritScore cols (GS1-GS12)\n",
    "gritColumns = df.iloc[:,2:14].columns\n",
    "print(gritColumns)"
   ]
  },
  {
   "cell_type": "code",
   "execution_count": 31,
   "id": "bc1c0bc6-e7a2-487f-bb03-f5f75c49342a",
   "metadata": {},
   "outputs": [
    {
     "name": "stdout",
     "output_type": "stream",
     "text": [
      "GS1     10\n",
      "GS2     14\n",
      "GS3     12\n",
      "GS4     34\n",
      "GS5     11\n",
      "GS6     14\n",
      "GS7     14\n",
      "GS8     10\n",
      "GS9      9\n",
      "GS10    15\n",
      "GS11    15\n",
      "GS12    25\n",
      "dtype: int64\n"
     ]
    }
   ],
   "source": [
    "# summing up the count of all missing data from Grit Scores\n",
    "print((df[gritColumns] == 0).sum())"
   ]
  },
  {
   "cell_type": "markdown",
   "id": "a54a5b03-1050-4d68-bbc4-24ee38b1947e",
   "metadata": {},
   "source": [
    "There are the amount of missing grit scores"
   ]
  },
  {
   "cell_type": "code",
   "execution_count": 24,
   "id": "0dae7d9d-ae93-4e5f-b0f9-dcac8c766a52",
   "metadata": {},
   "outputs": [
    {
     "name": "stdout",
     "output_type": "stream",
     "text": [
      "Index(['E1', 'E2', 'E3', 'E4', 'E5', 'E6', 'E7', 'E8', 'E9', 'E10', 'N1', 'N2',\n",
      "       'N3', 'N4', 'N5', 'N6', 'N7', 'N8', 'N9', 'N10', 'A1', 'A2', 'A3', 'A4',\n",
      "       'A5', 'A6', 'A7', 'A8', 'A9', 'A10', 'C1', 'C2', 'C3', 'C4', 'C5', 'C6',\n",
      "       'C7', 'C8', 'C9', 'C10', 'O1', 'O2', 'O3', 'O4', 'O5', 'O6', 'O7', 'O8',\n",
      "       'O9', 'O10'],\n",
      "      dtype='object')\n"
     ]
    }
   ],
   "source": [
    "# getting the columns of the Big 5 Personality Test \n",
    "bigPersonalities = df.iloc[:,42:92].columns\n",
    "print(bigPersonalities)"
   ]
  },
  {
   "cell_type": "code",
   "execution_count": 27,
   "id": "b7c44ca2-9851-474c-9b12-f12fa1e67c61",
   "metadata": {},
   "outputs": [
    {
     "name": "stdout",
     "output_type": "stream",
     "text": [
      "E1      9\n",
      "E2      9\n",
      "E3     10\n",
      "E4     18\n",
      "E5     17\n",
      "E6      6\n",
      "E7     20\n",
      "E8      5\n",
      "E9      9\n",
      "E10     5\n",
      "N1      9\n",
      "N2     12\n",
      "N3     10\n",
      "N4     18\n",
      "N5      7\n",
      "N6     13\n",
      "N7     13\n",
      "N8     11\n",
      "N9      9\n",
      "N10    13\n",
      "A1     10\n",
      "A2     13\n",
      "A3      9\n",
      "A4     15\n",
      "A5     12\n",
      "A6     19\n",
      "A7      8\n",
      "A8      9\n",
      "A9      8\n",
      "A10    15\n",
      "C1     12\n",
      "C2     13\n",
      "C3      7\n",
      "C4     15\n",
      "C5     11\n",
      "C6     12\n",
      "C7      9\n",
      "C8     17\n",
      "C9     11\n",
      "C10    21\n",
      "O1      9\n",
      "O2     17\n",
      "O3     17\n",
      "O4     17\n",
      "O5     10\n",
      "O6     18\n",
      "O7     13\n",
      "O8     11\n",
      "O9     12\n",
      "O10    15\n",
      "dtype: int64\n"
     ]
    }
   ],
   "source": [
    "# summing up the count of all missing data from Big 5 Personality Test\n",
    "print((df[bigPersonalities] == 0).sum())"
   ]
  },
  {
   "cell_type": "code",
   "execution_count": null,
   "id": "5765edaa-9097-4bba-9d7a-9484dae4d566",
   "metadata": {},
   "outputs": [],
   "source": []
  }
 ],
 "metadata": {
  "kernelspec": {
   "display_name": "Python [conda env:base] *",
   "language": "python",
   "name": "conda-base-py"
  },
  "language_info": {
   "codemirror_mode": {
    "name": "ipython",
    "version": 3
   },
   "file_extension": ".py",
   "mimetype": "text/x-python",
   "name": "python",
   "nbconvert_exporter": "python",
   "pygments_lexer": "ipython3",
   "version": "3.13.5"
  }
 },
 "nbformat": 4,
 "nbformat_minor": 5
}
