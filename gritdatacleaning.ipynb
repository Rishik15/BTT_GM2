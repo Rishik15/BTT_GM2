{
 "cells": [
  {
   "cell_type": "markdown",
   "id": "f307c39d-270f-4705-af22-106e20f1a064",
   "metadata": {},
   "source": [
    "# Importing Required Libraries for Data Preparation "
   ]
  },
  {
   "cell_type": "code",
   "execution_count": 2,
   "id": "80b29498-f469-459e-b1ae-fc9e6a51dfe7",
   "metadata": {},
   "outputs": [],
   "source": [
    "import pandas as pd\n",
    "import numpy as np\n",
    "import matplotlib.pyplot as plt\n",
    "import seaborn as sns"
   ]
  },
  {
   "cell_type": "markdown",
   "id": "dbd57847-172c-4c18-b143-ba48d946b7d9",
   "metadata": {},
   "source": [
    "## Loading dataset and Examining Structure"
   ]
  },
  {
   "cell_type": "code",
   "execution_count": 3,
   "id": "2522be7d-8195-48f5-abcf-1d8f1f58e86c",
   "metadata": {},
   "outputs": [
    {
     "data": {
      "text/html": [
       "<div>\n",
       "<style scoped>\n",
       "    .dataframe tbody tr th:only-of-type {\n",
       "        vertical-align: middle;\n",
       "    }\n",
       "\n",
       "    .dataframe tbody tr th {\n",
       "        vertical-align: top;\n",
       "    }\n",
       "\n",
       "    .dataframe thead th {\n",
       "        text-align: right;\n",
       "    }\n",
       "</style>\n",
       "<table border=\"1\" class=\"dataframe\">\n",
       "  <thead>\n",
       "    <tr style=\"text-align: right;\">\n",
       "      <th></th>\n",
       "      <th>country</th>\n",
       "      <th>surveyelapse</th>\n",
       "      <th>GS1</th>\n",
       "      <th>GS2</th>\n",
       "      <th>GS3</th>\n",
       "      <th>GS4</th>\n",
       "      <th>GS5</th>\n",
       "      <th>GS6</th>\n",
       "      <th>GS7</th>\n",
       "      <th>GS8</th>\n",
       "      <th>...</th>\n",
       "      <th>O7</th>\n",
       "      <th>O8</th>\n",
       "      <th>O9</th>\n",
       "      <th>O10</th>\n",
       "      <th>operatingsystem</th>\n",
       "      <th>browser</th>\n",
       "      <th>screenw</th>\n",
       "      <th>screenh</th>\n",
       "      <th>introelapse</th>\n",
       "      <th>testelapse</th>\n",
       "    </tr>\n",
       "  </thead>\n",
       "  <tbody>\n",
       "    <tr>\n",
       "      <th>0</th>\n",
       "      <td>RO</td>\n",
       "      <td>174</td>\n",
       "      <td>1</td>\n",
       "      <td>1</td>\n",
       "      <td>3</td>\n",
       "      <td>3</td>\n",
       "      <td>3</td>\n",
       "      <td>2</td>\n",
       "      <td>3</td>\n",
       "      <td>1</td>\n",
       "      <td>...</td>\n",
       "      <td>5</td>\n",
       "      <td>4</td>\n",
       "      <td>5</td>\n",
       "      <td>4</td>\n",
       "      <td>Windows</td>\n",
       "      <td>Chrome</td>\n",
       "      <td>1366</td>\n",
       "      <td>768</td>\n",
       "      <td>69590</td>\n",
       "      <td>307</td>\n",
       "    </tr>\n",
       "    <tr>\n",
       "      <th>1</th>\n",
       "      <td>US</td>\n",
       "      <td>120</td>\n",
       "      <td>2</td>\n",
       "      <td>2</td>\n",
       "      <td>3</td>\n",
       "      <td>3</td>\n",
       "      <td>2</td>\n",
       "      <td>1</td>\n",
       "      <td>3</td>\n",
       "      <td>3</td>\n",
       "      <td>...</td>\n",
       "      <td>4</td>\n",
       "      <td>3</td>\n",
       "      <td>4</td>\n",
       "      <td>5</td>\n",
       "      <td>Macintosh</td>\n",
       "      <td>Chrome</td>\n",
       "      <td>1280</td>\n",
       "      <td>800</td>\n",
       "      <td>33657</td>\n",
       "      <td>134</td>\n",
       "    </tr>\n",
       "    <tr>\n",
       "      <th>2</th>\n",
       "      <td>US</td>\n",
       "      <td>99</td>\n",
       "      <td>3</td>\n",
       "      <td>3</td>\n",
       "      <td>3</td>\n",
       "      <td>3</td>\n",
       "      <td>4</td>\n",
       "      <td>3</td>\n",
       "      <td>4</td>\n",
       "      <td>4</td>\n",
       "      <td>...</td>\n",
       "      <td>5</td>\n",
       "      <td>5</td>\n",
       "      <td>4</td>\n",
       "      <td>4</td>\n",
       "      <td>Windows</td>\n",
       "      <td>Firefox</td>\n",
       "      <td>1920</td>\n",
       "      <td>1080</td>\n",
       "      <td>95550</td>\n",
       "      <td>138</td>\n",
       "    </tr>\n",
       "    <tr>\n",
       "      <th>3</th>\n",
       "      <td>KE</td>\n",
       "      <td>5098</td>\n",
       "      <td>1</td>\n",
       "      <td>3</td>\n",
       "      <td>4</td>\n",
       "      <td>2</td>\n",
       "      <td>4</td>\n",
       "      <td>1</td>\n",
       "      <td>5</td>\n",
       "      <td>4</td>\n",
       "      <td>...</td>\n",
       "      <td>4</td>\n",
       "      <td>2</td>\n",
       "      <td>5</td>\n",
       "      <td>4</td>\n",
       "      <td>Windows</td>\n",
       "      <td>Chrome</td>\n",
       "      <td>1600</td>\n",
       "      <td>900</td>\n",
       "      <td>4</td>\n",
       "      <td>4440</td>\n",
       "    </tr>\n",
       "    <tr>\n",
       "      <th>4</th>\n",
       "      <td>JP</td>\n",
       "      <td>340</td>\n",
       "      <td>1</td>\n",
       "      <td>2</td>\n",
       "      <td>3</td>\n",
       "      <td>3</td>\n",
       "      <td>2</td>\n",
       "      <td>2</td>\n",
       "      <td>2</td>\n",
       "      <td>4</td>\n",
       "      <td>...</td>\n",
       "      <td>4</td>\n",
       "      <td>1</td>\n",
       "      <td>3</td>\n",
       "      <td>2</td>\n",
       "      <td>Windows</td>\n",
       "      <td>Firefox</td>\n",
       "      <td>1920</td>\n",
       "      <td>1080</td>\n",
       "      <td>3</td>\n",
       "      <td>337</td>\n",
       "    </tr>\n",
       "  </tbody>\n",
       "</table>\n",
       "<p>5 rows × 98 columns</p>\n",
       "</div>"
      ],
      "text/plain": [
       "  country  surveyelapse  GS1  GS2  GS3  GS4  GS5  GS6  GS7  GS8  ...  O7  O8  \\\n",
       "0      RO           174    1    1    3    3    3    2    3    1  ...   5   4   \n",
       "1      US           120    2    2    3    3    2    1    3    3  ...   4   3   \n",
       "2      US            99    3    3    3    3    4    3    4    4  ...   5   5   \n",
       "3      KE          5098    1    3    4    2    4    1    5    4  ...   4   2   \n",
       "4      JP           340    1    2    3    3    2    2    2    4  ...   4   1   \n",
       "\n",
       "   O9  O10  operatingsystem  browser  screenw  screenh  introelapse  \\\n",
       "0   5    4          Windows   Chrome     1366      768        69590   \n",
       "1   4    5        Macintosh   Chrome     1280      800        33657   \n",
       "2   4    4          Windows  Firefox     1920     1080        95550   \n",
       "3   5    4          Windows   Chrome     1600      900            4   \n",
       "4   3    2          Windows  Firefox     1920     1080            3   \n",
       "\n",
       "   testelapse  \n",
       "0         307  \n",
       "1         134  \n",
       "2         138  \n",
       "3        4440  \n",
       "4         337  \n",
       "\n",
       "[5 rows x 98 columns]"
      ]
     },
     "execution_count": 3,
     "metadata": {},
     "output_type": "execute_result"
    }
   ],
   "source": [
    "df = pd.read_csv('data/gritdata.csv', delimiter = '\\t')\n",
    "df.head()\n",
    "# changed delimiter to tab"
   ]
  },
  {
   "cell_type": "code",
   "execution_count": 4,
   "id": "179381bf-7fac-4a17-aa8b-19a72642fd95",
   "metadata": {},
   "outputs": [
    {
     "data": {
      "text/plain": [
       "(4270, 98)"
      ]
     },
     "execution_count": 4,
     "metadata": {},
     "output_type": "execute_result"
    }
   ],
   "source": [
    "df.shape\n",
    "# (row, col)"
   ]
  },
  {
   "cell_type": "code",
   "execution_count": 5,
   "id": "8d3ea892-ef9d-49eb-bdef-6080aad954d1",
   "metadata": {},
   "outputs": [
    {
     "name": "stdout",
     "output_type": "stream",
     "text": [
      "<class 'pandas.core.frame.DataFrame'>\n",
      "RangeIndex: 4270 entries, 0 to 4269\n",
      "Data columns (total 98 columns):\n",
      " #   Column           Non-Null Count  Dtype \n",
      "---  ------           --------------  ----- \n",
      " 0   country          4226 non-null   object\n",
      " 1   surveyelapse     4270 non-null   int64 \n",
      " 2   GS1              4270 non-null   int64 \n",
      " 3   GS2              4270 non-null   int64 \n",
      " 4   GS3              4270 non-null   int64 \n",
      " 5   GS4              4270 non-null   int64 \n",
      " 6   GS5              4270 non-null   int64 \n",
      " 7   GS6              4270 non-null   int64 \n",
      " 8   GS7              4270 non-null   int64 \n",
      " 9   GS8              4270 non-null   int64 \n",
      " 10  GS9              4270 non-null   int64 \n",
      " 11  GS10             4270 non-null   int64 \n",
      " 12  GS11             4270 non-null   int64 \n",
      " 13  GS12             4270 non-null   int64 \n",
      " 14  VCL1             4270 non-null   int64 \n",
      " 15  VCL2             4270 non-null   int64 \n",
      " 16  VCL3             4270 non-null   int64 \n",
      " 17  VCL4             4270 non-null   int64 \n",
      " 18  VCL5             4270 non-null   int64 \n",
      " 19  VCL6             4270 non-null   int64 \n",
      " 20  VCL7             4270 non-null   int64 \n",
      " 21  VCL8             4270 non-null   int64 \n",
      " 22  VCL9             4270 non-null   int64 \n",
      " 23  VCL10            4270 non-null   int64 \n",
      " 24  VCL11            4270 non-null   int64 \n",
      " 25  VCL12            4270 non-null   int64 \n",
      " 26  VCL13            4270 non-null   int64 \n",
      " 27  VCL14            4270 non-null   int64 \n",
      " 28  VCL15            4270 non-null   int64 \n",
      " 29  VCL16            4270 non-null   int64 \n",
      " 30  education        4270 non-null   int64 \n",
      " 31  urban            4270 non-null   int64 \n",
      " 32  gender           4270 non-null   int64 \n",
      " 33  engnat           4270 non-null   int64 \n",
      " 34  age              4270 non-null   int64 \n",
      " 35  hand             4270 non-null   int64 \n",
      " 36  religion         4270 non-null   int64 \n",
      " 37  orientation      4270 non-null   int64 \n",
      " 38  race             4270 non-null   int64 \n",
      " 39  voted            4270 non-null   int64 \n",
      " 40  married          4270 non-null   int64 \n",
      " 41  familysize       4270 non-null   int64 \n",
      " 42  E1               4270 non-null   int64 \n",
      " 43  E2               4270 non-null   int64 \n",
      " 44  E3               4270 non-null   int64 \n",
      " 45  E4               4270 non-null   int64 \n",
      " 46  E5               4270 non-null   int64 \n",
      " 47  E6               4270 non-null   int64 \n",
      " 48  E7               4270 non-null   int64 \n",
      " 49  E8               4270 non-null   int64 \n",
      " 50  E9               4270 non-null   int64 \n",
      " 51  E10              4270 non-null   int64 \n",
      " 52  N1               4270 non-null   int64 \n",
      " 53  N2               4270 non-null   int64 \n",
      " 54  N3               4270 non-null   int64 \n",
      " 55  N4               4270 non-null   int64 \n",
      " 56  N5               4270 non-null   int64 \n",
      " 57  N6               4270 non-null   int64 \n",
      " 58  N7               4270 non-null   int64 \n",
      " 59  N8               4270 non-null   int64 \n",
      " 60  N9               4270 non-null   int64 \n",
      " 61  N10              4270 non-null   int64 \n",
      " 62  A1               4270 non-null   int64 \n",
      " 63  A2               4270 non-null   int64 \n",
      " 64  A3               4270 non-null   int64 \n",
      " 65  A4               4270 non-null   int64 \n",
      " 66  A5               4270 non-null   int64 \n",
      " 67  A6               4270 non-null   int64 \n",
      " 68  A7               4270 non-null   int64 \n",
      " 69  A8               4270 non-null   int64 \n",
      " 70  A9               4270 non-null   int64 \n",
      " 71  A10              4270 non-null   int64 \n",
      " 72  C1               4270 non-null   int64 \n",
      " 73  C2               4270 non-null   int64 \n",
      " 74  C3               4270 non-null   int64 \n",
      " 75  C4               4270 non-null   int64 \n",
      " 76  C5               4270 non-null   int64 \n",
      " 77  C6               4270 non-null   int64 \n",
      " 78  C7               4270 non-null   int64 \n",
      " 79  C8               4270 non-null   int64 \n",
      " 80  C9               4270 non-null   int64 \n",
      " 81  C10              4270 non-null   int64 \n",
      " 82  O1               4270 non-null   int64 \n",
      " 83  O2               4270 non-null   int64 \n",
      " 84  O3               4270 non-null   int64 \n",
      " 85  O4               4270 non-null   int64 \n",
      " 86  O5               4270 non-null   int64 \n",
      " 87  O6               4270 non-null   int64 \n",
      " 88  O7               4270 non-null   int64 \n",
      " 89  O8               4270 non-null   int64 \n",
      " 90  O9               4270 non-null   int64 \n",
      " 91  O10              4270 non-null   int64 \n",
      " 92  operatingsystem  4270 non-null   object\n",
      " 93  browser          4270 non-null   object\n",
      " 94  screenw          4270 non-null   int64 \n",
      " 95  screenh          4270 non-null   int64 \n",
      " 96  introelapse      4270 non-null   int64 \n",
      " 97  testelapse       4270 non-null   int64 \n",
      "dtypes: int64(95), object(3)\n",
      "memory usage: 3.2+ MB\n"
     ]
    }
   ],
   "source": [
    "df.info()"
   ]
  },
  {
   "cell_type": "markdown",
   "id": "70d94975-d487-4b42-9e3e-93ea5b03058c",
   "metadata": {},
   "source": [
    "## Validity Check + Filtering"
   ]
  },
  {
   "cell_type": "code",
   "execution_count": 6,
   "id": "b9f0dddb-c846-46ee-9f4b-2f7589c19333",
   "metadata": {},
   "outputs": [],
   "source": [
    "df = df[~((df[\"VCL6\"]==1) | (df[\"VCL9\"]==1) | (df[\"VCL12\"]==1))]\n",
    "# filtering out rows that are true (value == 1) in cols: VCL6, VCL9, VCL12"
   ]
  },
  {
   "cell_type": "markdown",
   "id": "8d2023e3",
   "metadata": {},
   "source": [
    "The validity check has been performed and the VCL columns are no longer required. I will remove them VCL6, VCL9, VCL12 but keep the rest just in case good vocabulary is an indicator of grit."
   ]
  },
  {
   "cell_type": "code",
   "execution_count": 7,
   "id": "6a32c7a5",
   "metadata": {},
   "outputs": [],
   "source": [
    "df = df.drop(columns = [\"VCL6\", \"VCL9\", \"VCL12\"])"
   ]
  },
  {
   "cell_type": "markdown",
   "id": "dsfn78498zf",
   "metadata": {},
   "source": [
    "### Filtering Survey Timing Data\n",
    "Removing rows with unreasonable survey completion times:\n",
    "- testelapse: 75-2000 seconds (too fast indicates careless responding, too slow indicates interruptions)\n",
    "- introelapse: 0-800 seconds \n",
    "- surveyelapse: 72-2000 seconds"
   ]
  },
  {
   "cell_type": "code",
   "execution_count": 16,
   "id": "mswtmj9s75f",
   "metadata": {},
   "outputs": [
    {
     "name": "stdout",
     "output_type": "stream",
     "text": [
      "Rows outside bounds:\n",
      "75 < testelapse < 2000: 0\n",
      "0 < introelapse < 800: 0\n",
      "72 < surveyelapse < 2000: 0\n",
      "\n",
      "Current shape: (3003, 95)\n"
     ]
    }
   ],
   "source": [
    "# Check how many rows fall outside acceptable timing ranges\n",
    "print(\"Rows outside bounds:\")\n",
    "print(f\"75 < testelapse < 2000: {((df['testelapse'] < 75) | (df['testelapse'] > 2000)).sum()}\")\n",
    "print(f\"0 < introelapse < 800: {((df['introelapse'] < 0) | (df['introelapse'] > 800)).sum()}\")\n",
    "print(f\"72 < surveyelapse < 2000: {((df['surveyelapse'] < 72) | (df['surveyelapse'] > 2000)).sum()}\")\n",
    "print(f\"\\nCurrent shape: {df.shape}\")"
   ]
  },
  {
   "cell_type": "code",
   "execution_count": 15,
   "id": "ygpyw81kmgo",
   "metadata": {},
   "outputs": [],
   "source": [
    "# Filter rows based on timing bounds\n",
    "df = df[(df['testelapse'] >= 75) & (df['testelapse'] <= 2000) &\n",
    "        (df['introelapse'] >= 0) & (df['introelapse'] <= 800) &\n",
    "        (df['surveyelapse'] >= 72) & (df['surveyelapse'] <= 2000)]"
   ]
  },
  {
   "cell_type": "code",
   "execution_count": 17,
   "id": "xb2smeup6ia",
   "metadata": {},
   "outputs": [
    {
     "name": "stdout",
     "output_type": "stream",
     "text": [
      "New shape after timing filter: (3003, 95)\n",
      "\n",
      "Updated timing statistics:\n",
      "       introelapse   testelapse  surveyelapse\n",
      "count  3003.000000  3003.000000   3003.000000\n",
      "mean     38.064269   267.752248    232.262071\n",
      "std      89.487635   173.386255    147.288365\n",
      "min       1.000000    77.000000     72.000000\n",
      "25%       5.000000   170.000000    148.000000\n",
      "50%      10.000000   221.000000    194.000000\n",
      "75%      28.000000   299.500000    262.000000\n",
      "max     784.000000  1819.000000   1991.000000\n"
     ]
    }
   ],
   "source": [
    "# Verify filtering results\n",
    "print(f\"New shape after timing filter: {df.shape}\")\n",
    "print(f\"\\nUpdated timing statistics:\")\n",
    "print(df[[\"introelapse\", \"testelapse\", \"surveyelapse\"]].describe())"
   ]
  },
  {
   "cell_type": "code",
   "execution_count": 309,
   "id": "8724200d",
   "metadata": {},
   "outputs": [
    {
     "data": {
      "text/plain": [
       "np.int64(0)"
      ]
     },
     "execution_count": 309,
     "metadata": {},
     "output_type": "execute_result"
    }
   ],
   "source": [
    "df.duplicated().sum()"
   ]
  },
  {
   "cell_type": "markdown",
   "id": "1459f6ea",
   "metadata": {},
   "source": [
    "There are no duplicates in our data."
   ]
  },
  {
   "cell_type": "code",
   "execution_count": 310,
   "id": "250f4bfb-fc7f-4596-b8d4-a5ffb11de20a",
   "metadata": {},
   "outputs": [
    {
     "data": {
      "text/plain": [
       "country         33\n",
       "surveyelapse     0\n",
       "GS1              0\n",
       "GS2              0\n",
       "GS3              0\n",
       "                ..\n",
       "browser          0\n",
       "screenw          0\n",
       "screenh          0\n",
       "introelapse      0\n",
       "testelapse       0\n",
       "Length: 95, dtype: int64"
      ]
     },
     "execution_count": 310,
     "metadata": {},
     "output_type": "execute_result"
    }
   ],
   "source": [
    "df.isna().sum()"
   ]
  },
  {
   "cell_type": "markdown",
   "id": "2cf96318-8dae-48d1-8322-ece334612cc0",
   "metadata": {},
   "source": [
    "44 rows in the data have null values in the column \"country\". We will fill these null values with a placeholder value, \"Unknown\" so we can retain other information."
   ]
  },
  {
   "cell_type": "code",
   "execution_count": 311,
   "id": "d90c3f32-fb14-468e-b610-d000f07f2bca",
   "metadata": {},
   "outputs": [],
   "source": [
    "df['country'] = df['country'].fillna(\"Unknown\")"
   ]
  },
  {
   "cell_type": "code",
   "execution_count": 312,
   "id": "de5c1d16-f4c9-4dfd-a466-a508518f028a",
   "metadata": {},
   "outputs": [
    {
     "data": {
      "text/plain": [
       "np.int64(0)"
      ]
     },
     "execution_count": 312,
     "metadata": {},
     "output_type": "execute_result"
    }
   ],
   "source": [
    "df.isna().sum().sum()\n",
    "# checking if there are any remaining null values "
   ]
  },
  {
   "cell_type": "code",
   "execution_count": 313,
   "id": "b2ad0c17",
   "metadata": {},
   "outputs": [
    {
     "name": "stdout",
     "output_type": "stream",
     "text": [
      "education      24\n",
      "urban          31\n",
      "gender          3\n",
      "engnat         16\n",
      "hand           11\n",
      "religion       46\n",
      "orientation    95\n",
      "race           22\n",
      "voted          29\n",
      "married        17\n",
      "dtype: int64\n"
     ]
    }
   ],
   "source": [
    "# this demographics dataframe DOES NOT include familysize and age since its information \n",
    "# was collected differently by the user\n",
    "demographics = [\"education\", \"urban\", \"gender\", \"engnat\", \"hand\", \"religion\", \"orientation\", \n",
    "\"race\", \"voted\", \"married\"]\n",
    "demographics_df = df[demographics]\n",
    "demographicZeroCount = (demographics_df == 0).sum()\n",
    "print(demographicZeroCount)"
   ]
  },
  {
   "cell_type": "markdown",
   "id": "8ea27bfe",
   "metadata": {},
   "source": [
    "A value marked 0 will be considered 'Unknown'."
   ]
  },
  {
   "cell_type": "code",
   "execution_count": 314,
   "id": "e703c540",
   "metadata": {},
   "outputs": [
    {
     "data": {
      "text/plain": [
       "<Axes: xlabel='age'>"
      ]
     },
     "execution_count": 314,
     "metadata": {},
     "output_type": "execute_result"
    },
    {
     "data": {
      "image/png": "[encoded data removed]",
      "text/plain": [
       "<Figure size 800x500 with 1 Axes>"
      ]
     },
     "metadata": {},
     "output_type": "display_data"
    }
   ],
   "source": [
    "df['age'].value_counts().sort_index().plot(kind='bar', figsize=(8,5))"
   ]
  },
  {
   "cell_type": "markdown",
   "id": "d294c035",
   "metadata": {},
   "source": [
    "Here with our age column, we find two outliers, users who inserted their ages as 228 and 350. We will remove those rows."
   ]
  },
  {
   "cell_type": "code",
   "execution_count": 315,
   "id": "26f46935",
   "metadata": {},
   "outputs": [],
   "source": [
    "df = df[~((df[\"age\"]==228) | (df[\"age\"]==350))]"
   ]
  },
  {
   "cell_type": "code",
   "execution_count": 316,
   "id": "0a667c4c",
   "metadata": {},
   "outputs": [
    {
     "data": {
      "text/plain": [
       "<Axes: xlabel='familysize'>"
      ]
     },
     "execution_count": 316,
     "metadata": {},
     "output_type": "execute_result"
    },
    {
     "data": {
      "image/png": "[encoded data removed]",
      "text/plain": [
       "<Figure size 800x500 with 1 Axes>"
      ]
     },
     "metadata": {},
     "output_type": "display_data"
    }
   ],
   "source": [
    "df['familysize'].value_counts().sort_index().plot(kind='bar', figsize=(8,5))"
   ]
  },
  {
   "cell_type": "markdown",
   "id": "71900265",
   "metadata": {},
   "source": [
    "Here with our familysize column, we find a couple of outliers. Like the age column, we will remove those outlier rows."
   ]
  },
  {
   "cell_type": "code",
   "execution_count": 317,
   "id": "82fe9f29",
   "metadata": {},
   "outputs": [],
   "source": [
    "df = df[~((df[\"familysize\"]==0) | (df[\"familysize\"]==123334444) | (df[\"familysize\"]==33))]"
   ]
  },
  {
   "cell_type": "code",
   "execution_count": 318,
   "id": "bcf8f892-401b-4cfc-92cc-7ef80f49950a",
   "metadata": {},
   "outputs": [
    {
     "name": "stdout",
     "output_type": "stream",
     "text": [
      "Index(['GS1', 'GS2', 'GS3', 'GS4', 'GS5', 'GS6', 'GS7', 'GS8', 'GS9', 'GS10',\n",
      "       'GS11', 'GS12'],\n",
      "      dtype='object')\n"
     ]
    }
   ],
   "source": [
    "# getting the columns of gritScore cols (GS1-GS12)\n",
    "gritColumns = df.iloc[:,2:14].columns\n",
    "print(gritColumns)"
   ]
  },
  {
   "cell_type": "code",
   "execution_count": 319,
   "id": "bc1c0bc6-e7a2-487f-bb03-f5f75c49342a",
   "metadata": {},
   "outputs": [
    {
     "name": "stdout",
     "output_type": "stream",
     "text": [
      "GS1      7\n",
      "GS2      7\n",
      "GS3      8\n",
      "GS4     22\n",
      "GS5      7\n",
      "GS6      9\n",
      "GS7      9\n",
      "GS8      5\n",
      "GS9      5\n",
      "GS10     9\n",
      "GS11     8\n",
      "GS12    16\n",
      "dtype: int64\n"
     ]
    }
   ],
   "source": [
    "# summing up the count of all missing data from Grit Scores\n",
    "GritScoreZeroCount = (df[gritColumns] == 0).sum()\n",
    "print(GritScoreZeroCount)"
   ]
  },
  {
   "cell_type": "code",
   "execution_count": 320,
   "id": "50859677",
   "metadata": {},
   "outputs": [
    {
     "data": {
      "image/png": "[encoded data removed]",
      "text/plain": [
       "<Figure size 1200x500 with 1 Axes>"
      ]
     },
     "metadata": {},
     "output_type": "display_data"
    }
   ],
   "source": [
    "plt.figure(figsize=(12,5))\n",
    "sns.barplot(x=GritScoreZeroCount.index, y=GritScoreZeroCount.values)\n",
    "plt.title(\"Missing Responses per Grit Question (0 = Missing)\", fontsize=14)\n",
    "plt.xlabel(\"Grit Questions\", fontsize=12)\n",
    "plt.ylabel(\"Count of Missing Responses\", fontsize=12)\n",
    "plt.xticks(rotation=45)\n",
    "plt.show()\n"
   ]
  },
  {
   "cell_type": "markdown",
   "id": "a54a5b03-1050-4d68-bbc4-24ee38b1947e",
   "metadata": {},
   "source": [
    "Thesee are the amount of missing grit scores"
   ]
  },
  {
   "cell_type": "code",
   "execution_count": 321,
   "id": "0dae7d9d-ae93-4e5f-b0f9-dcac8c766a52",
   "metadata": {},
   "outputs": [
    {
     "name": "stdout",
     "output_type": "stream",
     "text": [
      "['E1', 'E2', 'E3', 'E4', 'E5', 'E6', 'E7', 'E8', 'E9', 'E10', 'N1', 'N2', 'N3', 'N4', 'N5', 'N6', 'N7', 'N8', 'N9', 'N10', 'A1', 'A2', 'A3', 'A4', 'A5', 'A6', 'A7', 'A8', 'A9', 'A10', 'C1', 'C2', 'C3', 'C4', 'C5', 'C6', 'C7', 'C8', 'C9', 'C10', 'O1', 'O2', 'O3', 'O4', 'O5', 'O6', 'O7', 'O8', 'O9', 'O10']\n"
     ]
    }
   ],
   "source": [
    "# getting the columns of the Big 5 Personality Test \n",
    "bigPersonalities = [col for col in df.columns if col.startswith((\"E\", \"N\", \"A\", \"C\", \"O\"))]\n",
    "print(bigPersonalities)\n",
    "#columns=[col for col in df.columns if col.startswith(\"VCL\")]"
   ]
  },
  {
   "cell_type": "code",
   "execution_count": 322,
   "id": "b7c44ca2-9851-474c-9b12-f12fa1e67c61",
   "metadata": {},
   "outputs": [
    {
     "name": "stdout",
     "output_type": "stream",
     "text": [
      "E1      7\n",
      "E2      8\n",
      "E3      9\n",
      "E4     15\n",
      "E5     16\n",
      "E6      5\n",
      "E7     18\n",
      "E8      4\n",
      "E9      6\n",
      "E10     4\n",
      "N1      7\n",
      "N2     10\n",
      "N3      7\n",
      "N4     11\n",
      "N5      6\n",
      "N6     12\n",
      "N7     10\n",
      "N8      9\n",
      "N9      6\n",
      "N10    11\n",
      "A1     10\n",
      "A2      8\n",
      "A3      8\n",
      "A4     11\n",
      "A5      9\n",
      "A6     12\n",
      "A7      5\n",
      "A8      6\n",
      "A9      5\n",
      "A10    12\n",
      "C1     10\n",
      "C2      9\n",
      "C3      5\n",
      "C4     13\n",
      "C5     10\n",
      "C6     11\n",
      "C7      9\n",
      "C8     12\n",
      "C9      8\n",
      "C10    14\n",
      "O1      6\n",
      "O2     14\n",
      "O3     11\n",
      "O4     12\n",
      "O5      9\n",
      "O6     14\n",
      "O7     10\n",
      "O8      9\n",
      "O9      9\n",
      "O10    13\n",
      "dtype: int64\n"
     ]
    }
   ],
   "source": [
    "# summing up the count of all missing data from Big 5 Personality Test\n",
    "bigPersonalitiesZeroCount = (df[bigPersonalities] == 0).sum()\n",
    "print(bigPersonalitiesZeroCount)"
   ]
  },
  {
   "cell_type": "code",
   "execution_count": 323,
   "id": "f0a80806",
   "metadata": {},
   "outputs": [
    {
     "data": {
      "image/png": "[encoded data removed]",
      "text/plain": [
       "<Figure size 1200x500 with 1 Axes>"
      ]
     },
     "metadata": {},
     "output_type": "display_data"
    },
    {
     "data": {
      "image/png": "[encoded data removed]",
      "text/plain": [
       "<Figure size 1200x500 with 1 Axes>"
      ]
     },
     "metadata": {},
     "output_type": "display_data"
    },
    {
     "data": {
      "image/png": "[encoded data removed]",
      "text/plain": [
       "<Figure size 1200x500 with 1 Axes>"
      ]
     },
     "metadata": {},
     "output_type": "display_data"
    },
    {
     "data": {
      "image/png": "[encoded data removed]",
      "text/plain": [
       "<Figure size 1200x500 with 1 Axes>"
      ]
     },
     "metadata": {},
     "output_type": "display_data"
    },
    {
     "data": {
      "image/png": "[encoded data removed]",
      "text/plain": [
       "<Figure size 1200x500 with 1 Axes>"
      ]
     },
     "metadata": {},
     "output_type": "display_data"
    }
   ],
   "source": [
    "for i in range(0, 50, 10):\n",
    "    current = bigPersonalitiesZeroCount.iloc[i: i+10]\n",
    "    plt.figure(figsize=(12,5))\n",
    "    sns.barplot(x=current.index, y=current.values)\n",
    "    plt.title(\"Missing Responses (0 = Missing)\", fontsize=14)\n",
    "    plt.xlabel(\"Questions\", fontsize=12)\n",
    "    plt.ylabel(\"Count of Missing Responses\", fontsize=12)\n",
    "    plt.xticks(rotation=45)\n",
    "    plt.show()"
   ]
  },
  {
   "cell_type": "markdown",
   "id": "77c782d2-1c60-4357-8567-2397f0969e78",
   "metadata": {},
   "source": [
    "## Completeness Check "
   ]
  },
  {
   "cell_type": "code",
   "execution_count": 324,
   "id": "5765edaa-9097-4bba-9d7a-9484dae4d566",
   "metadata": {},
   "outputs": [],
   "source": [
    "completeness = (df != 0).sum() / (len(df))\n",
    "\n",
    "completeness_df = pd.DataFrame({\n",
    "    'BigPersonalities': bigPersonalitiesZeroCount,\n",
    "    'GritScore': GritScoreZeroCount, \n",
    "    'MissingCountries': (df['country'] == 'Unknown').sum(),\n",
    "    'NonMissingCounts': (df != 0).sum(),\n",
    "    'CompletenessRate': completeness.round(3)\n",
    "})"
   ]
  },
  {
   "cell_type": "code",
   "execution_count": 325,
   "id": "1c3bc608-1191-48a4-b6f3-fc640c5b57cf",
   "metadata": {},
   "outputs": [
    {
     "data": {
      "text/html": [
       "<div>\n",
       "<style scoped>\n",
       "    .dataframe tbody tr th:only-of-type {\n",
       "        vertical-align: middle;\n",
       "    }\n",
       "\n",
       "    .dataframe tbody tr th {\n",
       "        vertical-align: top;\n",
       "    }\n",
       "\n",
       "    .dataframe thead th {\n",
       "        text-align: right;\n",
       "    }\n",
       "</style>\n",
       "<table border=\"1\" class=\"dataframe\">\n",
       "  <thead>\n",
       "    <tr style=\"text-align: right;\">\n",
       "      <th></th>\n",
       "      <th>BigPersonalities</th>\n",
       "      <th>GritScore</th>\n",
       "      <th>MissingCountries</th>\n",
       "      <th>NonMissingCounts</th>\n",
       "      <th>CompletenessRate</th>\n",
       "    </tr>\n",
       "  </thead>\n",
       "  <tbody>\n",
       "    <tr>\n",
       "      <th>GS1</th>\n",
       "      <td>NaN</td>\n",
       "      <td>7.0</td>\n",
       "      <td>31</td>\n",
       "      <td>3089</td>\n",
       "      <td>0.998</td>\n",
       "    </tr>\n",
       "    <tr>\n",
       "      <th>GS10</th>\n",
       "      <td>NaN</td>\n",
       "      <td>9.0</td>\n",
       "      <td>31</td>\n",
       "      <td>3087</td>\n",
       "      <td>0.997</td>\n",
       "    </tr>\n",
       "    <tr>\n",
       "      <th>GS11</th>\n",
       "      <td>NaN</td>\n",
       "      <td>8.0</td>\n",
       "      <td>31</td>\n",
       "      <td>3088</td>\n",
       "      <td>0.997</td>\n",
       "    </tr>\n",
       "    <tr>\n",
       "      <th>GS12</th>\n",
       "      <td>NaN</td>\n",
       "      <td>16.0</td>\n",
       "      <td>31</td>\n",
       "      <td>3080</td>\n",
       "      <td>0.995</td>\n",
       "    </tr>\n",
       "    <tr>\n",
       "      <th>GS2</th>\n",
       "      <td>NaN</td>\n",
       "      <td>7.0</td>\n",
       "      <td>31</td>\n",
       "      <td>3089</td>\n",
       "      <td>0.998</td>\n",
       "    </tr>\n",
       "    <tr>\n",
       "      <th>GS3</th>\n",
       "      <td>NaN</td>\n",
       "      <td>8.0</td>\n",
       "      <td>31</td>\n",
       "      <td>3088</td>\n",
       "      <td>0.997</td>\n",
       "    </tr>\n",
       "    <tr>\n",
       "      <th>GS4</th>\n",
       "      <td>NaN</td>\n",
       "      <td>22.0</td>\n",
       "      <td>31</td>\n",
       "      <td>3074</td>\n",
       "      <td>0.993</td>\n",
       "    </tr>\n",
       "    <tr>\n",
       "      <th>GS5</th>\n",
       "      <td>NaN</td>\n",
       "      <td>7.0</td>\n",
       "      <td>31</td>\n",
       "      <td>3089</td>\n",
       "      <td>0.998</td>\n",
       "    </tr>\n",
       "    <tr>\n",
       "      <th>GS6</th>\n",
       "      <td>NaN</td>\n",
       "      <td>9.0</td>\n",
       "      <td>31</td>\n",
       "      <td>3087</td>\n",
       "      <td>0.997</td>\n",
       "    </tr>\n",
       "    <tr>\n",
       "      <th>GS7</th>\n",
       "      <td>NaN</td>\n",
       "      <td>9.0</td>\n",
       "      <td>31</td>\n",
       "      <td>3087</td>\n",
       "      <td>0.997</td>\n",
       "    </tr>\n",
       "    <tr>\n",
       "      <th>GS8</th>\n",
       "      <td>NaN</td>\n",
       "      <td>5.0</td>\n",
       "      <td>31</td>\n",
       "      <td>3091</td>\n",
       "      <td>0.998</td>\n",
       "    </tr>\n",
       "    <tr>\n",
       "      <th>GS9</th>\n",
       "      <td>NaN</td>\n",
       "      <td>5.0</td>\n",
       "      <td>31</td>\n",
       "      <td>3091</td>\n",
       "      <td>0.998</td>\n",
       "    </tr>\n",
       "  </tbody>\n",
       "</table>\n",
       "</div>"
      ],
      "text/plain": [
       "      BigPersonalities  GritScore  MissingCountries  NonMissingCounts  \\\n",
       "GS1                NaN        7.0                31              3089   \n",
       "GS10               NaN        9.0                31              3087   \n",
       "GS11               NaN        8.0                31              3088   \n",
       "GS12               NaN       16.0                31              3080   \n",
       "GS2                NaN        7.0                31              3089   \n",
       "GS3                NaN        8.0                31              3088   \n",
       "GS4                NaN       22.0                31              3074   \n",
       "GS5                NaN        7.0                31              3089   \n",
       "GS6                NaN        9.0                31              3087   \n",
       "GS7                NaN        9.0                31              3087   \n",
       "GS8                NaN        5.0                31              3091   \n",
       "GS9                NaN        5.0                31              3091   \n",
       "\n",
       "      CompletenessRate  \n",
       "GS1              0.998  \n",
       "GS10             0.997  \n",
       "GS11             0.997  \n",
       "GS12             0.995  \n",
       "GS2              0.998  \n",
       "GS3              0.997  \n",
       "GS4              0.993  \n",
       "GS5              0.998  \n",
       "GS6              0.997  \n",
       "GS7              0.997  \n",
       "GS8              0.998  \n",
       "GS9              0.998  "
      ]
     },
     "execution_count": 325,
     "metadata": {},
     "output_type": "execute_result"
    }
   ],
   "source": [
    "completeness_df[completeness_df['GritScore'].notna()]"
   ]
  },
  {
   "cell_type": "markdown",
   "id": "59992e3d",
   "metadata": {},
   "source": [
    "### Filling in zero values with median values within that column and we are not using mean to avoid outliers"
   ]
  },
  {
   "cell_type": "code",
   "execution_count": 326,
   "id": "2cfd1afe",
   "metadata": {},
   "outputs": [
    {
     "name": "stdout",
     "output_type": "stream",
     "text": [
      "2\n"
     ]
    }
   ],
   "source": [
    "print(int(df['GS1'].median()))"
   ]
  },
  {
   "cell_type": "code",
   "execution_count": 327,
   "id": "ae588db8",
   "metadata": {},
   "outputs": [],
   "source": [
    "for i in GritScoreZeroCount.index:\n",
    "    value = int(df[i].median())\n",
    "    df[i] = df[i].replace(0, value)"
   ]
  },
  {
   "cell_type": "code",
   "execution_count": 328,
   "id": "1cec05dd",
   "metadata": {},
   "outputs": [
    {
     "name": "stdout",
     "output_type": "stream",
     "text": [
      "GS1     0\n",
      "GS2     0\n",
      "GS3     0\n",
      "GS4     0\n",
      "GS5     0\n",
      "GS6     0\n",
      "GS7     0\n",
      "GS8     0\n",
      "GS9     0\n",
      "GS10    0\n",
      "GS11    0\n",
      "GS12    0\n",
      "dtype: int64\n"
     ]
    }
   ],
   "source": [
    "GritScoreZeroCount = (df[gritColumns] == 0).sum()\n",
    "print(GritScoreZeroCount)"
   ]
  },
  {
   "cell_type": "code",
   "execution_count": 329,
   "id": "155fc385",
   "metadata": {},
   "outputs": [],
   "source": [
    "for i in bigPersonalitiesZeroCount.index:\n",
    "    value = int(df[i].median())\n",
    "    df[i] = df[i].replace(0, value)"
   ]
  },
  {
   "cell_type": "code",
   "execution_count": 330,
   "id": "3c246902",
   "metadata": {},
   "outputs": [
    {
     "name": "stdout",
     "output_type": "stream",
     "text": [
      "E1     0\n",
      "E2     0\n",
      "E3     0\n",
      "E4     0\n",
      "E5     0\n",
      "E6     0\n",
      "E7     0\n",
      "E8     0\n",
      "E9     0\n",
      "E10    0\n",
      "N1     0\n",
      "N2     0\n",
      "N3     0\n",
      "N4     0\n",
      "N5     0\n",
      "N6     0\n",
      "N7     0\n",
      "N8     0\n",
      "N9     0\n",
      "N10    0\n",
      "A1     0\n",
      "A2     0\n",
      "A3     0\n",
      "A4     0\n",
      "A5     0\n",
      "A6     0\n",
      "A7     0\n",
      "A8     0\n",
      "A9     0\n",
      "A10    0\n",
      "C1     0\n",
      "C2     0\n",
      "C3     0\n",
      "C4     0\n",
      "C5     0\n",
      "C6     0\n",
      "C7     0\n",
      "C8     0\n",
      "C9     0\n",
      "C10    0\n",
      "O1     0\n",
      "O2     0\n",
      "O3     0\n",
      "O4     0\n",
      "O5     0\n",
      "O6     0\n",
      "O7     0\n",
      "O8     0\n",
      "O9     0\n",
      "O10    0\n",
      "dtype: int64\n"
     ]
    }
   ],
   "source": [
    "bigPersonalitiesZeroCount = (df[bigPersonalities] == 0).sum()\n",
    "print(bigPersonalitiesZeroCount)"
   ]
  },
  {
   "cell_type": "code",
   "execution_count": 331,
   "id": "fcfc6e92",
   "metadata": {},
   "outputs": [
    {
     "name": "stdout",
     "output_type": "stream",
     "text": [
      "operatingsystem\n",
      "Windows          1856\n",
      "Macintosh         478\n",
      "iOS               402\n",
      "Linux             278\n",
      "ChromeOS           63\n",
      "Unknown            15\n",
      "Windows Phone       3\n",
      "Blackberry          1\n",
      "Name: count, dtype: int64\n",
      "browser\n",
      "Chrome                         1633\n",
      "Safari                          580\n",
      "Microsoft Internet Explorer     388\n",
      "Firefox                         362\n",
      "AndroidBrowser                   45\n",
      "Opera                            33\n",
      "Unknown                          29\n",
      "ChromeiOS                        23\n",
      "UCBrowser                         2\n",
      "SeaMonkey                         1\n",
      "Name: count, dtype: int64\n",
      "           screenw      screenh\n",
      "count  3096.000000  3096.000000\n",
      "mean   1242.224483   841.978036\n",
      "std     446.728355   174.837568\n",
      "min       0.000000     0.000000\n",
      "25%    1024.000000   768.000000\n",
      "50%    1366.000000   800.000000\n",
      "75%    1440.000000  1024.000000\n",
      "max    3440.000000  1920.000000\n",
      "         introelapse     testelapse  surveyelapse\n",
      "count    3096.000000    3096.000000   3096.000000\n",
      "mean      499.028101     689.416667    262.517119\n",
      "std      6217.459143    8803.121910    708.987368\n",
      "min         1.000000       7.000000     72.000000\n",
      "25%         5.000000     171.000000    149.000000\n",
      "50%        11.000000     223.000000    195.000000\n",
      "75%        33.000000     307.000000    263.250000\n",
      "max    168069.000000  350590.000000  34522.000000\n"
     ]
    }
   ],
   "source": [
    "print(df[\"operatingsystem\"].value_counts())\n",
    "print(df[\"browser\"].value_counts())\n",
    "print(df[[\"screenw\", \"screenh\"]].describe())\n",
    "print(df[[\"introelapse\", \"testelapse\", \"surveyelapse\"]].describe())"
   ]
  },
  {
   "cell_type": "markdown",
   "id": "7ea3599e",
   "metadata": {},
   "source": [
    "Since there are missing values in screenw and screenh and the two are unlikely to be strong predictors, I will remove the columns. I will also be removing rows with unreasonable timings."
   ]
  },
  {
   "cell_type": "code",
   "execution_count": 332,
   "id": "454fac6a",
   "metadata": {},
   "outputs": [],
   "source": [
    "df = df.drop(columns = [\"screenw\", \"screenh\"])"
   ]
  },
  {
   "cell_type": "code",
   "execution_count": 333,
   "id": "a601540f",
   "metadata": {},
   "outputs": [
    {
     "data": {
      "text/plain": [
       "(array([7.800e+01, 1.528e+03, 9.160e+02, 3.010e+02, 1.090e+02, 5.900e+01,\n",
       "        3.700e+01, 1.700e+01, 9.000e+00, 1.200e+01, 1.000e+00, 5.000e+00,\n",
       "        2.000e+00, 2.000e+00, 1.000e+00, 1.000e+00, 0.000e+00, 0.000e+00,\n",
       "        1.000e+00, 1.000e+00, 0.000e+00, 3.000e+00, 0.000e+00, 2.000e+00,\n",
       "        0.000e+00, 0.000e+00, 1.000e+00, 0.000e+00, 0.000e+00, 2.000e+00,\n",
       "        1.000e+00, 0.000e+00, 0.000e+00, 0.000e+00, 0.000e+00, 0.000e+00,\n",
       "        0.000e+00, 1.000e+00, 0.000e+00, 0.000e+00, 0.000e+00, 0.000e+00,\n",
       "        0.000e+00, 0.000e+00, 0.000e+00, 0.000e+00, 0.000e+00, 0.000e+00,\n",
       "        0.000e+00, 0.000e+00]),\n",
       " array([   0.,  100.,  200.,  300.,  400.,  500.,  600.,  700.,  800.,\n",
       "         900., 1000., 1100., 1200., 1300., 1400., 1500., 1600., 1700.,\n",
       "        1800., 1900., 2000., 2100., 2200., 2300., 2400., 2500., 2600.,\n",
       "        2700., 2800., 2900., 3000., 3100., 3200., 3300., 3400., 3500.,\n",
       "        3600., 3700., 3800., 3900., 4000., 4100., 4200., 4300., 4400.,\n",
       "        4500., 4600., 4700., 4800., 4900., 5000.]),\n",
       " <BarContainer object of 50 artists>)"
      ]
     },
     "execution_count": 333,
     "metadata": {},
     "output_type": "execute_result"
    },
    {
     "data": {
      "image/png": "[encoded data removed]",
      "text/plain": [
       "<Figure size 640x480 with 1 Axes>"
      ]
     },
     "metadata": {},
     "output_type": "display_data"
    }
   ],
   "source": [
    "plt.hist(df[\"surveyelapse\"], bins=50, range=(0,5000)) "
   ]
  },
  {
   "cell_type": "code",
   "execution_count": 334,
   "id": "413cd725",
   "metadata": {},
   "outputs": [
    {
     "data": {
      "text/plain": [
       "(array([1.987e+03, 4.050e+02, 1.820e+02, 1.070e+02, 5.800e+01, 3.800e+01,\n",
       "        2.300e+01, 2.200e+01, 1.700e+01, 1.900e+01, 1.100e+01, 1.100e+01,\n",
       "        5.000e+00, 1.000e+01, 1.000e+01, 8.000e+00, 7.000e+00, 2.000e+00,\n",
       "        4.000e+00, 5.000e+00, 3.000e+00, 3.000e+00, 3.000e+00, 2.000e+00,\n",
       "        3.000e+00, 5.000e+00, 1.000e+00, 6.000e+00, 2.000e+00, 1.000e+00,\n",
       "        4.000e+00, 3.000e+00, 4.000e+00, 3.000e+00, 6.000e+00, 2.000e+00,\n",
       "        2.000e+00, 1.000e+00, 0.000e+00, 1.000e+00, 2.000e+00, 1.000e+00,\n",
       "        3.000e+00, 0.000e+00, 3.000e+00, 1.000e+00, 1.000e+00, 0.000e+00,\n",
       "        1.000e+00, 1.000e+00]),\n",
       " array([   0.,   20.,   40.,   60.,   80.,  100.,  120.,  140.,  160.,\n",
       "         180.,  200.,  220.,  240.,  260.,  280.,  300.,  320.,  340.,\n",
       "         360.,  380.,  400.,  420.,  440.,  460.,  480.,  500.,  520.,\n",
       "         540.,  560.,  580.,  600.,  620.,  640.,  660.,  680.,  700.,\n",
       "         720.,  740.,  760.,  780.,  800.,  820.,  840.,  860.,  880.,\n",
       "         900.,  920.,  940.,  960.,  980., 1000.]),\n",
       " <BarContainer object of 50 artists>)"
      ]
     },
     "execution_count": 334,
     "metadata": {},
     "output_type": "execute_result"
    },
    {
     "data": {
      "image/png": "[encoded data removed]",
      "text/plain": [
       "<Figure size 640x480 with 1 Axes>"
      ]
     },
     "metadata": {},
     "output_type": "display_data"
    }
   ],
   "source": [
    "plt.hist(df[\"introelapse\"], bins=50, range=(0,1000)) "
   ]
  },
  {
   "cell_type": "code",
   "execution_count": 335,
   "id": "c0b94bc0",
   "metadata": {},
   "outputs": [
    {
     "data": {
      "text/plain": [
       "(array([  3.,   4.,  92., 498., 623., 550., 375., 249., 172., 106.,  87.,\n",
       "         48.,  37.,  43.,  34.,  23.,  18.,  16.,  10.,   9.,  11.,   5.,\n",
       "          6.,   8.,   3.,   2.,   3.,   1.,   5.,   0.,   1.,   1.,   3.,\n",
       "          4.,   2.,   1.,   1.,   2.,   1.,   0.,   0.,   1.,   0.,   0.,\n",
       "          1.,   2.,   0.,   0.,   1.,   0.]),\n",
       " array([   0.,   40.,   80.,  120.,  160.,  200.,  240.,  280.,  320.,\n",
       "         360.,  400.,  440.,  480.,  520.,  560.,  600.,  640.,  680.,\n",
       "         720.,  760.,  800.,  840.,  880.,  920.,  960., 1000., 1040.,\n",
       "        1080., 1120., 1160., 1200., 1240., 1280., 1320., 1360., 1400.,\n",
       "        1440., 1480., 1520., 1560., 1600., 1640., 1680., 1720., 1760.,\n",
       "        1800., 1840., 1880., 1920., 1960., 2000.]),\n",
       " <BarContainer object of 50 artists>)"
      ]
     },
     "execution_count": 335,
     "metadata": {},
     "output_type": "execute_result"
    },
    {
     "data": {
      "image/png": "[encoded data removed]",
      "text/plain": [
       "<Figure size 640x480 with 1 Axes>"
      ]
     },
     "metadata": {},
     "output_type": "display_data"
    }
   ],
   "source": [
    "plt.hist(df[\"testelapse\"], bins=50, range=(0,2000)) "
   ]
  },
  {
   "cell_type": "markdown",
   "id": "e8ded093",
   "metadata": {},
   "source": [
    "Will decide on the timing thing later with the help of others. Unsure what to do. Lots of unreasonably long times for all three but usure of cutoff. Seems to be some unreasonably short times for testelapes such as 7 seconds for 50 questions. Also unsure of a cutoff for this."
   ]
  },
  {
   "cell_type": "markdown",
   "id": "52eb8d58",
   "metadata": {},
   "source": []
  },
  {
   "cell_type": "markdown",
   "id": "e34274ff",
   "metadata": {},
   "source": [
    "Will reverse the scores of negatively worded survey questions and then create columns for composite personality and grit scores."
   ]
  },
  {
   "cell_type": "code",
   "execution_count": 336,
   "id": "1499207c",
   "metadata": {},
   "outputs": [],
   "source": [
    "reverse_items = [\"E2\", \"E4\", \"E6\", \"E8\", \"E10\", \"N1\", \"N3\", \"N5\", \"N6\", \"N7\", \"N8\", \"N9\", \"N10\", \"A1\", \"A3\", \"A5\", \"A7\", \"C2\", \"C4\", \"C6\", \"C8\", \"O2\", \"O4\", \"O6\", \"GS2\", \"GS3\", \"GS5\", \"GS7\", \"GS8\", \"GS11\"]\n",
    "df[reverse_items] = 6 - df[reverse_items]"
   ]
  },
  {
   "cell_type": "code",
   "execution_count": 337,
   "id": "f482407d",
   "metadata": {},
   "outputs": [],
   "source": [
    "extraversion_items = [\"E1\",\"E2\",\"E3\",\"E4\",\"E5\",\"E6\",\"E7\",\"E8\",\"E9\",\"E10\"]\n",
    "neuroticism_items = [\"N1\",\"N2\",\"N3\",\"N4\",\"N5\",\"N6\",\"N7\",\"N8\",\"N9\",\"N10\"]\n",
    "agreeableness_items = [\"A1\",\"A2\",\"A3\",\"A4\",\"A5\",\"A6\",\"A7\",\"A8\",\"A9\",\"A10\"]\n",
    "conscientious_items = [\"C1\",\"C2\",\"C3\",\"C4\",\"C5\",\"C6\",\"C7\",\"C8\",\"C9\",\"C10\"]\n",
    "openness_items = [\"O1\",\"O2\",\"O3\",\"O4\",\"O5\",\"O6\",\"O7\",\"O8\",\"O9\",\"O10\"]\n",
    "grit_items = [\"GS1\", \"GS2\", \"GS3\", \"GS4\", \"GS5\", \"GS6\", \"GS7\", \"GS8\", \"GS9\", \"GS10\", \"GS11\", \"GS12\"]\n",
    "\n",
    "df[\"Extraversion\"] = df[extraversion_items].mean(axis=1)\n",
    "df[\"Neuroticism\"] = df[neuroticism_items].mean(axis=1)\n",
    "df[\"Agreeableness\"] = df[agreeableness_items].mean(axis=1)\n",
    "df[\"Conscientiousness\"] = df[conscientious_items].mean(axis=1)\n",
    "df[\"Openness\"] = df[openness_items].mean(axis=1)\n",
    "df[\"Grit\"] = df[grit_items].mean(axis=1)"
   ]
  },
  {
   "cell_type": "code",
   "execution_count": 340,
   "id": "714f26e3",
   "metadata": {},
   "outputs": [
    {
     "data": {
      "text/plain": [
       "(3096, 99)"
      ]
     },
     "execution_count": 340,
     "metadata": {},
     "output_type": "execute_result"
    }
   ],
   "source": [
    "df.shape"
   ]
  },
  {
   "cell_type": "code",
   "execution_count": null,
   "id": "37d454d6",
   "metadata": {},
   "outputs": [],
   "source": []
  }
 ],
 "metadata": {
  "kernelspec": {
   "display_name": ".venv",
   "language": "python",
   "name": "python3"
  },
  "language_info": {
   "codemirror_mode": {
    "name": "ipython",
    "version": 3
   },
   "file_extension": ".py",
   "mimetype": "text/x-python",
   "name": "python",
   "nbconvert_exporter": "python",
   "pygments_lexer": "ipython3",
   "version": "3.11.4"
  }
 },
 "nbformat": 4,
 "nbformat_minor": 5
}
